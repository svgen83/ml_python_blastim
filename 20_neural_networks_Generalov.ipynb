{
  "cells": [
    {
      "cell_type": "markdown",
      "metadata": {
        "id": "OM_1PEIcX2Ab"
      },
      "source": [
        "# Домашнее задание\n",
        "1. Модифицируйте код из туториала ниже, чтобы **достичь наибольшего качества классификации на датасете FashionMNIST** при помощи нейронной сети. Вы можете попробовать:\n",
        "- Изменить архитектуру нейросети: добавить слои или изменить количество нейронов в каждом слое, функции активации\n",
        "- Изменить значения гиперпараметров: learning_rate, количество эпох, оптимизатор\n",
        "\n",
        "2. Постройте матрицу ошибок (confusion matrix) для вашего классификатора и простой полносвязной нейросети из примера. Какие классы чаще всего путают модели?\n",
        "\n",
        "\\* Выходы последнего слоя нейросети отражают информацию о входных объектах. Их можно использовать как признаки для других задач. После тренировки нейросети извлеките эти значения для каждой картинки в датасете и **постройте визуализацию картинок при помощи UMAP**. Окрасьте изображение по классам картинок. Видно ли в нём дополнительную структуру в данных?\n",
        "\n",
        "\\*\\* Сделайте визуализацию UMAP по картинкам, выпрямленным в вектора без обработки нейросетью. Сравните с результатами предыдущего шага. Какие классы похожи друг на друга?\n",
        "\n",
        "3. Вы уже реализовывали логистическую регрессию в домашнем задании по классификации. Сделайте это снова при помощи библиотеки Pytorch. **Реализуйте логистическую регрессию как нейрон и обучите его**. Проверьте качество на тем же данным по [покемонам](https://www.kaggle.com/datasets/abcsds/pokemon), что и в домашнем задании 14 дня.\n",
        "\n",
        "4. \\* Реализуйте модель регрессии для предсказания цены жилья (\"median_house_value\") в датасете california_housing.\n",
        "В качестве функции ошибок можно выбрать MSE. Если вы работаете в google colab, данные можно найти в папке `sample_data`.\n",
        "\n"
      ]
    },
    {
      "cell_type": "markdown",
      "metadata": {
        "id": "nizYOENFr2Jh"
      },
      "source": [
        "[Learn the Basics](intro.html) \\|\\| **Quickstart** \\|\\|\n",
        "[Tensors](tensorqs_tutorial.html) \\|\\| [Datasets &\n",
        "DataLoaders](data_tutorial.html) \\|\\|\n",
        "[Transforms](transforms_tutorial.html) \\|\\| [Build\n",
        "Model](buildmodel_tutorial.html) \\|\\|\n",
        "[Autograd](autogradqs_tutorial.html) \\|\\|\n",
        "[Optimization](optimization_tutorial.html) \\|\\| [Save & Load\n",
        "Model](saveloadrun_tutorial.html)\n",
        "\n",
        "Quickstart\n",
        "==========\n",
        "\n",
        "This section runs through the API for common tasks in machine learning.\n",
        "Refer to the links in each section to dive deeper.\n",
        "\n",
        "Working with data\n",
        "-----------------\n",
        "\n",
        "PyTorch has two [primitives to work with\n",
        "data](https://pytorch.org/docs/stable/data.html):\n",
        "`torch.utils.data.DataLoader` and `torch.utils.data.Dataset`. `Dataset`\n",
        "stores the samples and their corresponding labels, and `DataLoader`\n",
        "wraps an iterable around the `Dataset`.\n"
      ]
    },
    {
      "cell_type": "code",
      "execution_count": 1,
      "metadata": {
        "id": "3PDND3rZr2Ji"
      },
      "outputs": [],
      "source": [
        "import torch\n",
        "from torch import nn, optim\n",
        "from torch.utils.data import DataLoader\n",
        "from torchvision import datasets\n",
        "from torchvision.transforms import ToTensor\n",
        "from torch.functional import F\n"
      ]
    },
    {
      "cell_type": "markdown",
      "metadata": {
        "id": "XSPvfnzBr2Ji"
      },
      "source": [
        "PyTorch offers domain-specific libraries such as\n",
        "[TorchText](https://pytorch.org/text/stable/index.html),\n",
        "[TorchVision](https://pytorch.org/vision/stable/index.html), and\n",
        "[TorchAudio](https://pytorch.org/audio/stable/index.html), all of which\n",
        "include datasets. For this tutorial, we will be using a TorchVision\n",
        "dataset.\n",
        "\n",
        "The `torchvision.datasets` module contains `Dataset` objects for many\n",
        "real-world vision data like CIFAR, COCO ([full list\n",
        "here](https://pytorch.org/vision/stable/datasets.html)). In this\n",
        "tutorial, we use the FashionMNIST dataset. Every TorchVision `Dataset`\n",
        "includes two arguments: `transform` and `target_transform` to modify the\n",
        "samples and labels respectively.\n"
      ]
    },
    {
      "cell_type": "code",
      "execution_count": 2,
      "metadata": {
        "id": "uZum0ZARr2Ji",
        "colab": {
          "base_uri": "https://localhost:8080/"
        },
        "outputId": "ae800613-6ce6-4637-d914-1fd05d455884"
      },
      "outputs": [
        {
          "output_type": "stream",
          "name": "stdout",
          "text": [
            "Downloading http://fashion-mnist.s3-website.eu-central-1.amazonaws.com/train-images-idx3-ubyte.gz\n",
            "Downloading http://fashion-mnist.s3-website.eu-central-1.amazonaws.com/train-images-idx3-ubyte.gz to data/FashionMNIST/raw/train-images-idx3-ubyte.gz\n"
          ]
        },
        {
          "output_type": "stream",
          "name": "stderr",
          "text": [
            "100%|██████████| 26421880/26421880 [00:02<00:00, 10985875.96it/s]\n"
          ]
        },
        {
          "output_type": "stream",
          "name": "stdout",
          "text": [
            "Extracting data/FashionMNIST/raw/train-images-idx3-ubyte.gz to data/FashionMNIST/raw\n",
            "\n",
            "Downloading http://fashion-mnist.s3-website.eu-central-1.amazonaws.com/train-labels-idx1-ubyte.gz\n",
            "Downloading http://fashion-mnist.s3-website.eu-central-1.amazonaws.com/train-labels-idx1-ubyte.gz to data/FashionMNIST/raw/train-labels-idx1-ubyte.gz\n"
          ]
        },
        {
          "output_type": "stream",
          "name": "stderr",
          "text": [
            "100%|██████████| 29515/29515 [00:00<00:00, 212562.45it/s]\n"
          ]
        },
        {
          "output_type": "stream",
          "name": "stdout",
          "text": [
            "Extracting data/FashionMNIST/raw/train-labels-idx1-ubyte.gz to data/FashionMNIST/raw\n",
            "\n",
            "Downloading http://fashion-mnist.s3-website.eu-central-1.amazonaws.com/t10k-images-idx3-ubyte.gz\n",
            "Downloading http://fashion-mnist.s3-website.eu-central-1.amazonaws.com/t10k-images-idx3-ubyte.gz to data/FashionMNIST/raw/t10k-images-idx3-ubyte.gz\n"
          ]
        },
        {
          "output_type": "stream",
          "name": "stderr",
          "text": [
            "100%|██████████| 4422102/4422102 [00:01<00:00, 3929495.69it/s]\n"
          ]
        },
        {
          "output_type": "stream",
          "name": "stdout",
          "text": [
            "Extracting data/FashionMNIST/raw/t10k-images-idx3-ubyte.gz to data/FashionMNIST/raw\n",
            "\n",
            "Downloading http://fashion-mnist.s3-website.eu-central-1.amazonaws.com/t10k-labels-idx1-ubyte.gz\n",
            "Downloading http://fashion-mnist.s3-website.eu-central-1.amazonaws.com/t10k-labels-idx1-ubyte.gz to data/FashionMNIST/raw/t10k-labels-idx1-ubyte.gz\n"
          ]
        },
        {
          "output_type": "stream",
          "name": "stderr",
          "text": [
            "100%|██████████| 5148/5148 [00:00<00:00, 13726813.09it/s]\n"
          ]
        },
        {
          "output_type": "stream",
          "name": "stdout",
          "text": [
            "Extracting data/FashionMNIST/raw/t10k-labels-idx1-ubyte.gz to data/FashionMNIST/raw\n",
            "\n"
          ]
        }
      ],
      "source": [
        "# Download training data from open datasets.\n",
        "training_data = datasets.FashionMNIST(\n",
        "    root=\"data\",\n",
        "    train=True,\n",
        "    download=True,\n",
        "    transform=ToTensor(),\n",
        ")\n",
        "\n",
        "# Download test data from open datasets.\n",
        "test_data = datasets.FashionMNIST(\n",
        "    root=\"data\",\n",
        "    train=False,\n",
        "    download=True,\n",
        "    transform=ToTensor(),\n",
        ")"
      ]
    },
    {
      "cell_type": "markdown",
      "metadata": {
        "id": "Z0QedVBhr2Ji"
      },
      "source": [
        "We pass the `Dataset` as an argument to `DataLoader`. This wraps an\n",
        "iterable over our dataset, and supports automatic batching, sampling,\n",
        "shuffling and multiprocess data loading. Here we define a batch size of\n",
        "64, i.e. each element in the dataloader iterable will return a batch of\n",
        "64 features and labels.\n"
      ]
    },
    {
      "cell_type": "code",
      "execution_count": 3,
      "metadata": {
        "colab": {
          "base_uri": "https://localhost:8080/"
        },
        "id": "05JozdW-r2Ji",
        "outputId": "26114827-3f7b-431c-d41b-57c6fdad2bcb"
      },
      "outputs": [
        {
          "output_type": "stream",
          "name": "stdout",
          "text": [
            "Shape of X [N, C, H, W]: torch.Size([64, 1, 28, 28])\n",
            "Shape of y: torch.Size([64]) torch.int64\n"
          ]
        }
      ],
      "source": [
        "batch_size = 64\n",
        "\n",
        "# Create data loaders.\n",
        "train_dataloader = DataLoader(training_data, batch_size=batch_size)\n",
        "test_dataloader = DataLoader(test_data, batch_size=batch_size)\n",
        "\n",
        "for X, y in test_dataloader:\n",
        "    print(f\"Shape of X [N, C, H, W]: {X.shape}\")\n",
        "    print(f\"Shape of y: {y.shape} {y.dtype}\")\n",
        "    break"
      ]
    },
    {
      "cell_type": "markdown",
      "metadata": {
        "id": "REwl8Iq9r2Jj"
      },
      "source": [
        "Read more about [loading data in PyTorch](data_tutorial.html).\n"
      ]
    },
    {
      "cell_type": "markdown",
      "metadata": {
        "id": "bGB7u_lRr2Jj"
      },
      "source": [
        "------------------------------------------------------------------------\n"
      ]
    },
    {
      "cell_type": "markdown",
      "metadata": {
        "id": "8ef_IV-pr2Jj"
      },
      "source": [
        "Creating Models\n",
        "===============\n",
        "\n",
        "To define a neural network in PyTorch, we create a class that inherits\n",
        "from\n",
        "[nn.Module](https://pytorch.org/docs/stable/generated/torch.nn.Module.html).\n",
        "We define the layers of the network in the `__init__` function and\n",
        "specify how data will pass through the network in the `forward`\n",
        "function. To accelerate operations in the neural network, we move it to\n",
        "the GPU or MPS if available.\n"
      ]
    },
    {
      "cell_type": "code",
      "source": [
        "# Get cpu, gpu or mps device for training.\n",
        "device = (\n",
        "    \"cuda\"\n",
        "    if torch.cuda.is_available()\n",
        "    else \"mps\"\n",
        "    if torch.backends.mps.is_available()\n",
        "    else \"cpu\"\n",
        ")\n",
        "print(f\"Using {device} device\")"
      ],
      "metadata": {
        "colab": {
          "base_uri": "https://localhost:8080/"
        },
        "id": "4nNNOhx7UiXg",
        "outputId": "78120065-924f-400c-cc32-164b1dd84866"
      },
      "execution_count": 4,
      "outputs": [
        {
          "output_type": "stream",
          "name": "stdout",
          "text": [
            "Using cpu device\n"
          ]
        }
      ]
    },
    {
      "cell_type": "code",
      "source": [
        "neurons_q = 512\n",
        "neurons_q_2 = 1024\n",
        "\n",
        "\n",
        "linear_relu_stack_1 = nn.Sequential(nn.Linear(28*28, neurons_q),\n",
        "                                    nn.ReLU(),\n",
        "                                    nn.Linear(neurons_q, neurons_q),\n",
        "                                    nn.ReLU(),nn.Linear(neurons_q, 10))\n"
      ],
      "metadata": {
        "id": "j6mo7_p2SROZ"
      },
      "execution_count": 5,
      "outputs": []
    },
    {
      "cell_type": "code",
      "source": [
        "linear_relu_stack_2 = nn.Sequential(nn.Linear(28*28, neurons_q_2),\n",
        "                                    nn.ReLU(),\n",
        "                                    nn.Linear(neurons_q_2, neurons_q_2),\n",
        "                                    nn.ReLU(),\n",
        "                                    nn.Linear(neurons_q_2, neurons_q_2),\n",
        "                                    nn.ReLU(),\n",
        "                                    nn.Linear(neurons_q_2, neurons_q_2),\n",
        "                                    nn.ReLU(),\n",
        "                                    nn.Linear(neurons_q_2, 10))"
      ],
      "metadata": {
        "id": "e-H1J_lAYbpY"
      },
      "execution_count": 6,
      "outputs": []
    },
    {
      "cell_type": "markdown",
      "source": [],
      "metadata": {
        "id": "k3GcnQEEnfSt"
      }
    },
    {
      "cell_type": "code",
      "execution_count": 7,
      "metadata": {
        "colab": {
          "base_uri": "https://localhost:8080/"
        },
        "id": "K0LrjAACr2Jj",
        "outputId": "d7cee5a9-fd5f-46ea-89f7-1cc4a525b476"
      },
      "outputs": [
        {
          "output_type": "stream",
          "name": "stdout",
          "text": [
            "NeuralNetwork(\n",
            "  (flatten): Flatten(start_dim=1, end_dim=-1)\n",
            "  (linear_relu_stack): Sequential(\n",
            "    (0): Linear(in_features=784, out_features=1024, bias=True)\n",
            "    (1): ReLU()\n",
            "    (2): Linear(in_features=1024, out_features=1024, bias=True)\n",
            "    (3): ReLU()\n",
            "    (4): Linear(in_features=1024, out_features=1024, bias=True)\n",
            "    (5): ReLU()\n",
            "    (6): Linear(in_features=1024, out_features=1024, bias=True)\n",
            "    (7): ReLU()\n",
            "    (8): Linear(in_features=1024, out_features=10, bias=True)\n",
            "  )\n",
            ")\n"
          ]
        }
      ],
      "source": [
        "\n",
        "# Define model\n",
        "class NeuralNetwork(nn.Module):\n",
        "    def __init__(self, linear_relu_stack):\n",
        "        super().__init__()\n",
        "        self.flatten = nn.Flatten()\n",
        "        self.linear_relu_stack = linear_relu_stack\n",
        "\n",
        "    def forward(self, x):\n",
        "        x = self.flatten(x)\n",
        "        logits = self.linear_relu_stack(x)\n",
        "        return logits\n",
        "\n",
        "class ConvolutionalNeuralNetwork(nn.Module):\n",
        "    def __init__(self):\n",
        "        super().__init__()\n",
        "\n",
        "        n_conv_kernels_1 = 32\n",
        "        n_conv_kernels_2 = 64\n",
        "        n_linear_neurons = 512\n",
        "\n",
        "        self.conv_stack = nn.Sequential(\n",
        "            nn.Conv2d(1, n_conv_kernels_1, kernel_size=3, stride=1, padding=1), # Input: 1 x 28 x 28\n",
        "            nn.ReLU(),\n",
        "            nn.MaxPool2d(kernel_size=2, stride=2), # Output: 32 x 14 x 14\n",
        "\n",
        "            nn.Conv2d(n_conv_kernels_1, n_conv_kernels_2, kernel_size=3, stride=1, padding=1),\n",
        "            nn.ReLU(),\n",
        "            nn.MaxPool2d(kernel_size=2, stride=2) # Output: 64 x 7 x 7\n",
        "        )\n",
        "        self.flatten = nn.Flatten()\n",
        "        self.linear_relu_stack = nn.Sequential(\n",
        "            nn.Linear(n_conv_kernels_2 * 7 * 7, n_linear_neurons),\n",
        "            nn.ReLU(),\n",
        "            nn.Linear(n_linear_neurons, 10) # For 10 classes\n",
        "        )\n",
        "\n",
        "    def forward(self, x):\n",
        "        x = self.conv_stack(x)\n",
        "        x = self.flatten(x)\n",
        "        logits = self.linear_relu_stack(x)\n",
        "        return logits\n",
        "\n",
        "\n",
        "model = NeuralNetwork(linear_relu_stack_1).to(device)\n",
        "model_2 = NeuralNetwork(linear_relu_stack_2).to(device)\n",
        "print(model_2)"
      ]
    },
    {
      "cell_type": "code",
      "source": [],
      "metadata": {
        "id": "fD71ZGNdUGch"
      },
      "execution_count": 7,
      "outputs": []
    },
    {
      "cell_type": "code",
      "source": [],
      "metadata": {
        "id": "8BrGuF2_UCl-"
      },
      "execution_count": 7,
      "outputs": []
    },
    {
      "cell_type": "markdown",
      "metadata": {
        "id": "xhgVBeWCr2Jj"
      },
      "source": [
        "Read more about [building neural networks in\n",
        "PyTorch](buildmodel_tutorial.html).\n"
      ]
    },
    {
      "cell_type": "markdown",
      "metadata": {
        "id": "a5bEVpn1r2Jj"
      },
      "source": [
        "------------------------------------------------------------------------\n"
      ]
    },
    {
      "cell_type": "markdown",
      "metadata": {
        "id": "6dHDTeDOr2Jj"
      },
      "source": [
        "Optimizing the Model Parameters\n",
        "===============================\n",
        "\n",
        "To train a model, we need a [loss\n",
        "function](https://pytorch.org/docs/stable/nn.html#loss-functions) and an\n",
        "[optimizer](https://pytorch.org/docs/stable/optim.html).\n"
      ]
    },
    {
      "cell_type": "code",
      "execution_count": 8,
      "metadata": {
        "id": "mQKw_uohr2Jj"
      },
      "outputs": [],
      "source": [
        "loss_fn = nn.CrossEntropyLoss()\n",
        "optimizer = torch.optim.SGD(model.parameters(), lr=1e-3)"
      ]
    },
    {
      "cell_type": "markdown",
      "metadata": {
        "id": "zLZIzy5Rr2Jk"
      },
      "source": [
        "In a single training loop, the model makes predictions on the training\n",
        "dataset (fed to it in batches), and backpropagates the prediction error\n",
        "to adjust the model\\'s parameters.\n"
      ]
    },
    {
      "cell_type": "code",
      "execution_count": 9,
      "metadata": {
        "id": "WItbDNDUr2Jk"
      },
      "outputs": [],
      "source": [
        "def train(dataloader, model, loss_fn, optimizer):\n",
        "    size = len(dataloader.dataset)\n",
        "    model.train()\n",
        "    for batch, (X, y) in enumerate(dataloader):\n",
        "        X, y = X.to(device), y.to(device)\n",
        "\n",
        "        # Compute prediction error\n",
        "        pred = model(X)\n",
        "        loss = loss_fn(pred, y)\n",
        "\n",
        "        # Backpropagation\n",
        "        loss.backward()\n",
        "        optimizer.step()\n",
        "        optimizer.zero_grad()\n",
        "\n",
        "        if batch % 100 == 0:\n",
        "            loss, current = loss.item(), (batch + 1) * len(X)\n",
        "            print(f\"loss: {loss:>7f}  [{current:>5d}/{size:>5d}]\")"
      ]
    },
    {
      "cell_type": "markdown",
      "metadata": {
        "id": "UwYf7VhPr2Jk"
      },
      "source": [
        "We also check the model\\'s performance against the test dataset to\n",
        "ensure it is learning.\n"
      ]
    },
    {
      "cell_type": "code",
      "execution_count": 10,
      "metadata": {
        "id": "AqpBV6hhr2Jk"
      },
      "outputs": [],
      "source": [
        "def test(dataloader, model, loss_fn):\n",
        "    size = len(dataloader.dataset)\n",
        "    num_batches = len(dataloader)\n",
        "    model.eval()\n",
        "    test_loss, correct = 0, 0\n",
        "    with torch.no_grad():\n",
        "        for X, y in dataloader:\n",
        "            X, y = X.to(device), y.to(device)\n",
        "            pred = model(X)\n",
        "            test_loss += loss_fn(pred, y).item()\n",
        "            correct += (pred.argmax(1) == y).type(torch.float).sum().item()\n",
        "    test_loss /= num_batches\n",
        "    correct /= size\n",
        "    print(f\"Test Error: \\n Accuracy: {(100*correct):>0.1f}%, Avg loss: {test_loss:>8f} \\n\")"
      ]
    },
    {
      "cell_type": "markdown",
      "metadata": {
        "id": "WoNftOKpr2Jk"
      },
      "source": [
        "The training process is conducted over several iterations (*epochs*).\n",
        "During each epoch, the model learns parameters to make better\n",
        "predictions. We print the model\\'s accuracy and loss at each epoch;\n",
        "we\\'d like to see the accuracy increase and the loss decrease with every\n",
        "epoch.\n"
      ]
    },
    {
      "cell_type": "code",
      "execution_count": 11,
      "metadata": {
        "colab": {
          "base_uri": "https://localhost:8080/"
        },
        "id": "5FxdzDjlr2Jk",
        "outputId": "e9231276-3167-49b0-e4b4-454ab1361a57"
      },
      "outputs": [
        {
          "output_type": "stream",
          "name": "stdout",
          "text": [
            "Epoch 1\n",
            "-------------------------------\n",
            "loss: 2.306166  [   64/60000]\n",
            "loss: 2.291260  [ 6464/60000]\n",
            "loss: 2.276616  [12864/60000]\n",
            "loss: 2.265946  [19264/60000]\n",
            "loss: 2.236608  [25664/60000]\n",
            "loss: 2.219394  [32064/60000]\n",
            "loss: 2.209981  [38464/60000]\n",
            "loss: 2.180644  [44864/60000]\n",
            "loss: 2.184219  [51264/60000]\n",
            "loss: 2.133657  [57664/60000]\n",
            "Test Error: \n",
            " Accuracy: 48.1%, Avg loss: 2.138439 \n",
            "\n",
            "Epoch 2\n",
            "-------------------------------\n",
            "loss: 2.159950  [   64/60000]\n",
            "loss: 2.141335  [ 6464/60000]\n",
            "loss: 2.087674  [12864/60000]\n",
            "loss: 2.091251  [19264/60000]\n",
            "loss: 2.023587  [25664/60000]\n",
            "loss: 1.979461  [32064/60000]\n",
            "loss: 1.980391  [38464/60000]\n",
            "loss: 1.905508  [44864/60000]\n",
            "loss: 1.921395  [51264/60000]\n",
            "loss: 1.822304  [57664/60000]\n",
            "Test Error: \n",
            " Accuracy: 54.3%, Avg loss: 1.835454 \n",
            "\n",
            "Epoch 3\n",
            "-------------------------------\n",
            "loss: 1.885613  [   64/60000]\n",
            "loss: 1.846911  [ 6464/60000]\n",
            "loss: 1.732472  [12864/60000]\n",
            "loss: 1.758359  [19264/60000]\n",
            "loss: 1.654116  [25664/60000]\n",
            "loss: 1.614840  [32064/60000]\n",
            "loss: 1.615467  [38464/60000]\n",
            "loss: 1.525174  [44864/60000]\n",
            "loss: 1.563106  [51264/60000]\n",
            "loss: 1.447291  [57664/60000]\n",
            "Test Error: \n",
            " Accuracy: 59.5%, Avg loss: 1.475571 \n",
            "\n",
            "Epoch 4\n",
            "-------------------------------\n",
            "loss: 1.551798  [   64/60000]\n",
            "loss: 1.519349  [ 6464/60000]\n",
            "loss: 1.372970  [12864/60000]\n",
            "loss: 1.436551  [19264/60000]\n",
            "loss: 1.331917  [25664/60000]\n",
            "loss: 1.332061  [32064/60000]\n",
            "loss: 1.338107  [38464/60000]\n",
            "loss: 1.261299  [44864/60000]\n",
            "loss: 1.307735  [51264/60000]\n",
            "loss: 1.212283  [57664/60000]\n",
            "Test Error: \n",
            " Accuracy: 62.7%, Avg loss: 1.234614 \n",
            "\n",
            "Epoch 5\n",
            "-------------------------------\n",
            "loss: 1.312705  [   64/60000]\n",
            "loss: 1.299345  [ 6464/60000]\n",
            "loss: 1.136540  [12864/60000]\n",
            "loss: 1.236489  [19264/60000]\n",
            "loss: 1.120642  [25664/60000]\n",
            "loss: 1.151238  [32064/60000]\n",
            "loss: 1.168696  [38464/60000]\n",
            "loss: 1.097439  [44864/60000]\n",
            "loss: 1.148554  [51264/60000]\n",
            "loss: 1.069548  [57664/60000]\n",
            "Test Error: \n",
            " Accuracy: 64.5%, Avg loss: 1.083166 \n",
            "\n",
            "Done!\n"
          ]
        }
      ],
      "source": [
        "epochs = 5\n",
        "for t in range(epochs):\n",
        "    print(f\"Epoch {t+1}\\n-------------------------------\")\n",
        "    train(train_dataloader, model, loss_fn, optimizer)\n",
        "    test(test_dataloader, model, loss_fn)\n",
        "print(\"Done!\")"
      ]
    },
    {
      "cell_type": "code",
      "source": [
        "epochs = 5\n",
        "for t in range(epochs):\n",
        "    print(f\"Epoch {t+1}\\n-------------------------------\")\n",
        "    train(train_dataloader, model_2, loss_fn, optimizer)\n",
        "    test(test_dataloader, model_2, loss_fn)\n",
        "print(\"Done!\")"
      ],
      "metadata": {
        "colab": {
          "base_uri": "https://localhost:8080/"
        },
        "id": "JdEFhzTopgiD",
        "outputId": "7c32f0a6-74ff-4b34-c62a-cf529aee2125"
      },
      "execution_count": 12,
      "outputs": [
        {
          "output_type": "stream",
          "name": "stdout",
          "text": [
            "Epoch 1\n",
            "-------------------------------\n",
            "loss: 2.301664  [   64/60000]\n",
            "loss: 2.301177  [ 6464/60000]\n",
            "loss: 2.300995  [12864/60000]\n",
            "loss: 2.303367  [19264/60000]\n",
            "loss: 2.300119  [25664/60000]\n",
            "loss: 2.303289  [32064/60000]\n",
            "loss: 2.306494  [38464/60000]\n",
            "loss: 2.304274  [44864/60000]\n",
            "loss: 2.302833  [51264/60000]\n",
            "loss: 2.305779  [57664/60000]\n",
            "Test Error: \n",
            " Accuracy: 8.3%, Avg loss: 2.302627 \n",
            "\n",
            "Epoch 2\n",
            "-------------------------------\n",
            "loss: 2.301664  [   64/60000]\n",
            "loss: 2.301177  [ 6464/60000]\n",
            "loss: 2.300995  [12864/60000]\n",
            "loss: 2.303367  [19264/60000]\n",
            "loss: 2.300119  [25664/60000]\n",
            "loss: 2.303289  [32064/60000]\n",
            "loss: 2.306494  [38464/60000]\n",
            "loss: 2.304274  [44864/60000]\n",
            "loss: 2.302833  [51264/60000]\n",
            "loss: 2.305779  [57664/60000]\n",
            "Test Error: \n",
            " Accuracy: 8.3%, Avg loss: 2.302627 \n",
            "\n",
            "Epoch 3\n",
            "-------------------------------\n",
            "loss: 2.301664  [   64/60000]\n",
            "loss: 2.301177  [ 6464/60000]\n",
            "loss: 2.300995  [12864/60000]\n",
            "loss: 2.303367  [19264/60000]\n",
            "loss: 2.300119  [25664/60000]\n",
            "loss: 2.303289  [32064/60000]\n",
            "loss: 2.306494  [38464/60000]\n",
            "loss: 2.304274  [44864/60000]\n",
            "loss: 2.302833  [51264/60000]\n",
            "loss: 2.305779  [57664/60000]\n",
            "Test Error: \n",
            " Accuracy: 8.3%, Avg loss: 2.302627 \n",
            "\n",
            "Epoch 4\n",
            "-------------------------------\n",
            "loss: 2.301664  [   64/60000]\n",
            "loss: 2.301177  [ 6464/60000]\n",
            "loss: 2.300995  [12864/60000]\n",
            "loss: 2.303367  [19264/60000]\n",
            "loss: 2.300119  [25664/60000]\n",
            "loss: 2.303289  [32064/60000]\n",
            "loss: 2.306494  [38464/60000]\n",
            "loss: 2.304274  [44864/60000]\n",
            "loss: 2.302833  [51264/60000]\n",
            "loss: 2.305779  [57664/60000]\n",
            "Test Error: \n",
            " Accuracy: 8.3%, Avg loss: 2.302627 \n",
            "\n",
            "Epoch 5\n",
            "-------------------------------\n",
            "loss: 2.301664  [   64/60000]\n",
            "loss: 2.301177  [ 6464/60000]\n",
            "loss: 2.300995  [12864/60000]\n",
            "loss: 2.303367  [19264/60000]\n",
            "loss: 2.300119  [25664/60000]\n",
            "loss: 2.303289  [32064/60000]\n",
            "loss: 2.306494  [38464/60000]\n",
            "loss: 2.304274  [44864/60000]\n",
            "loss: 2.302833  [51264/60000]\n",
            "loss: 2.305779  [57664/60000]\n",
            "Test Error: \n",
            " Accuracy: 8.3%, Avg loss: 2.302627 \n",
            "\n",
            "Done!\n"
          ]
        }
      ]
    },
    {
      "cell_type": "code",
      "execution_count": 13,
      "metadata": {
        "colab": {
          "base_uri": "https://localhost:8080/"
        },
        "id": "3gGl6s0LtEVW",
        "outputId": "016f5f28-3456-4681-87c2-108c82a7ecc1"
      },
      "outputs": [
        {
          "output_type": "stream",
          "name": "stdout",
          "text": [
            "Epoch 1\n",
            "-------------------------------\n",
            "loss: 2.302359  [   64/60000]\n",
            "loss: 2.292753  [ 6464/60000]\n",
            "loss: 2.286805  [12864/60000]\n",
            "loss: 2.280885  [19264/60000]\n",
            "loss: 2.272171  [25664/60000]\n",
            "loss: 2.253414  [32064/60000]\n",
            "loss: 2.260042  [38464/60000]\n",
            "loss: 2.237303  [44864/60000]\n",
            "loss: 2.236973  [51264/60000]\n",
            "loss: 2.208955  [57664/60000]\n",
            "Test Error: \n",
            " Accuracy: 34.1%, Avg loss: 2.206725 \n",
            "\n",
            "Epoch 2\n",
            "-------------------------------\n",
            "loss: 2.222332  [   64/60000]\n",
            "loss: 2.198317  [ 6464/60000]\n",
            "loss: 2.153278  [12864/60000]\n",
            "loss: 2.133260  [19264/60000]\n",
            "loss: 2.079566  [25664/60000]\n",
            "loss: 2.005907  [32064/60000]\n",
            "loss: 1.968559  [38464/60000]\n",
            "loss: 1.857593  [44864/60000]\n",
            "loss: 1.811225  [51264/60000]\n",
            "loss: 1.633079  [57664/60000]\n",
            "Test Error: \n",
            " Accuracy: 57.9%, Avg loss: 1.630254 \n",
            "\n",
            "Epoch 3\n",
            "-------------------------------\n",
            "loss: 1.706302  [   64/60000]\n",
            "loss: 1.580838  [ 6464/60000]\n",
            "loss: 1.381551  [12864/60000]\n",
            "loss: 1.359779  [19264/60000]\n",
            "loss: 1.181896  [25664/60000]\n",
            "loss: 1.179640  [32064/60000]\n",
            "loss: 1.132742  [38464/60000]\n",
            "loss: 1.048909  [44864/60000]\n",
            "loss: 1.090232  [51264/60000]\n",
            "loss: 1.010663  [57664/60000]\n",
            "Test Error: \n",
            " Accuracy: 64.2%, Avg loss: 0.993083 \n",
            "\n",
            "Epoch 4\n",
            "-------------------------------\n",
            "loss: 1.076766  [   64/60000]\n",
            "loss: 1.061406  [ 6464/60000]\n",
            "loss: 0.843542  [12864/60000]\n",
            "loss: 0.996345  [19264/60000]\n",
            "loss: 0.859914  [25664/60000]\n",
            "loss: 0.890187  [32064/60000]\n",
            "loss: 0.912260  [38464/60000]\n",
            "loss: 0.820293  [44864/60000]\n",
            "loss: 0.885770  [51264/60000]\n",
            "loss: 0.902617  [57664/60000]\n",
            "Test Error: \n",
            " Accuracy: 69.7%, Avg loss: 0.835816 \n",
            "\n",
            "Epoch 5\n",
            "-------------------------------\n",
            "loss: 0.866485  [   64/60000]\n",
            "loss: 0.925032  [ 6464/60000]\n",
            "loss: 0.677987  [12864/60000]\n",
            "loss: 0.902185  [19264/60000]\n",
            "loss: 0.773315  [25664/60000]\n",
            "loss: 0.796477  [32064/60000]\n",
            "loss: 0.831576  [38464/60000]\n",
            "loss: 0.742717  [44864/60000]\n",
            "loss: 0.795674  [51264/60000]\n",
            "loss: 0.856034  [57664/60000]\n",
            "Test Error: \n",
            " Accuracy: 72.6%, Avg loss: 0.763480 \n",
            "\n",
            "Epoch 6\n",
            "-------------------------------\n",
            "loss: 0.760577  [   64/60000]\n",
            "loss: 0.843133  [ 6464/60000]\n",
            "loss: 0.598030  [12864/60000]\n",
            "loss: 0.847474  [19264/60000]\n",
            "loss: 0.720938  [25664/60000]\n",
            "loss: 0.750948  [32064/60000]\n",
            "loss: 0.780234  [38464/60000]\n",
            "loss: 0.700513  [44864/60000]\n",
            "loss: 0.747378  [51264/60000]\n",
            "loss: 0.819365  [57664/60000]\n",
            "Test Error: \n",
            " Accuracy: 74.3%, Avg loss: 0.717889 \n",
            "\n",
            "Epoch 7\n",
            "-------------------------------\n",
            "loss: 0.691295  [   64/60000]\n",
            "loss: 0.783966  [ 6464/60000]\n",
            "loss: 0.546629  [12864/60000]\n",
            "loss: 0.808104  [19264/60000]\n",
            "loss: 0.684720  [25664/60000]\n",
            "loss: 0.725651  [32064/60000]\n",
            "loss: 0.741588  [38464/60000]\n",
            "loss: 0.669068  [44864/60000]\n",
            "loss: 0.719696  [51264/60000]\n",
            "loss: 0.788048  [57664/60000]\n",
            "Test Error: \n",
            " Accuracy: 75.9%, Avg loss: 0.685682 \n",
            "\n",
            "Epoch 8\n",
            "-------------------------------\n",
            "loss: 0.641669  [   64/60000]\n",
            "loss: 0.739403  [ 6464/60000]\n",
            "loss: 0.509815  [12864/60000]\n",
            "loss: 0.776704  [19264/60000]\n",
            "loss: 0.659302  [25664/60000]\n",
            "loss: 0.710824  [32064/60000]\n",
            "loss: 0.711717  [38464/60000]\n",
            "loss: 0.645020  [44864/60000]\n",
            "loss: 0.705213  [51264/60000]\n",
            "loss: 0.762022  [57664/60000]\n",
            "Test Error: \n",
            " Accuracy: 76.6%, Avg loss: 0.661766 \n",
            "\n",
            "Epoch 9\n",
            "-------------------------------\n",
            "loss: 0.602717  [   64/60000]\n",
            "loss: 0.703925  [ 6464/60000]\n",
            "loss: 0.481527  [12864/60000]\n",
            "loss: 0.752922  [19264/60000]\n",
            "loss: 0.640756  [25664/60000]\n",
            "loss: 0.701030  [32064/60000]\n",
            "loss: 0.687960  [38464/60000]\n",
            "loss: 0.627054  [44864/60000]\n",
            "loss: 0.697778  [51264/60000]\n",
            "loss: 0.737819  [57664/60000]\n",
            "Test Error: \n",
            " Accuracy: 76.9%, Avg loss: 0.643068 \n",
            "\n",
            "Epoch 10\n",
            "-------------------------------\n",
            "loss: 0.571789  [   64/60000]\n",
            "loss: 0.675228  [ 6464/60000]\n",
            "loss: 0.458654  [12864/60000]\n",
            "loss: 0.732992  [19264/60000]\n",
            "loss: 0.625576  [25664/60000]\n",
            "loss: 0.692351  [32064/60000]\n",
            "loss: 0.667918  [38464/60000]\n",
            "loss: 0.613387  [44864/60000]\n",
            "loss: 0.692668  [51264/60000]\n",
            "loss: 0.716571  [57664/60000]\n",
            "Test Error: \n",
            " Accuracy: 77.3%, Avg loss: 0.628036 \n",
            "\n",
            "Done!\n"
          ]
        }
      ],
      "source": [
        "conv_net = ConvolutionalNeuralNetwork()\n",
        "conv_net.to(device)\n",
        "\n",
        "loss_fn = nn.CrossEntropyLoss()\n",
        "optimizer = torch.optim.SGD(conv_net.parameters(), lr=1e-3)\n",
        "\n",
        "epochs = 10\n",
        "for t in range(epochs):\n",
        "    print(f\"Epoch {t+1}\\n-------------------------------\")\n",
        "    train(train_dataloader, conv_net, loss_fn, optimizer)\n",
        "    test(test_dataloader, conv_net, loss_fn)\n",
        "print(\"Done!\")"
      ]
    },
    {
      "cell_type": "markdown",
      "metadata": {
        "id": "kuofR2-wr2Jk"
      },
      "source": [
        "Read more about [Training your model](optimization_tutorial.html).\n"
      ]
    },
    {
      "cell_type": "code",
      "execution_count": 14,
      "metadata": {
        "id": "0z_pIiK5N1Ps",
        "colab": {
          "base_uri": "https://localhost:8080/",
          "height": 452
        },
        "outputId": "83558955-4025-4adf-aa95-35cbabc6ac5e"
      },
      "outputs": [
        {
          "output_type": "display_data",
          "data": {
            "text/plain": [
              "<Figure size 640x480 with 1 Axes>"
            ],
            "image/png": "[encoded data removed]"
          },
          "metadata": {}
        }
      ],
      "source": [
        "import matplotlib.pyplot as plt\n",
        "\n",
        "classes = [\n",
        "    \"T-shirt/top\",\n",
        "    \"Trouser\",\n",
        "    \"Pullover\",\n",
        "    \"Dress\",\n",
        "    \"Coat\",\n",
        "    \"Sandal\",\n",
        "    \"Shirt\",\n",
        "    \"Sneaker\",\n",
        "    \"Bag\",\n",
        "    \"Ankle boot\",\n",
        "]\n",
        "\n",
        "idx = 8\n",
        "model.eval()\n",
        "conv_net.eval()\n",
        "\n",
        "x, y = test_data[idx][0], test_data[idx][1]\n",
        "with torch.no_grad():\n",
        "    x = x.to(device)\n",
        "    img = x.squeeze().cpu().numpy()\n",
        "    pred = model(x)\n",
        "    predicted, actual = classes[pred[0].argmax(0)], classes[y]\n",
        "\n",
        "    pred_conv = conv_net(x.unsqueeze(0))  # Add another dimension for batch with \"unsqeeze\"\n",
        "    predicted_conv = classes[pred_conv[0].argmax(0)]\n",
        "\n",
        "    plt.imshow(img, cmap=\"gray\")\n",
        "    plt.title(f'Predicted: \"{predicted}\", Predicted conv: \"{predicted_conv}, \" Actual: \"{actual}\"')"
      ]
    },
    {
      "cell_type": "code",
      "execution_count": 15,
      "metadata": {
        "id": "xlVMGeyDRN-Z",
        "colab": {
          "base_uri": "https://localhost:8080/"
        },
        "outputId": "4d2623bb-926c-41a0-a22f-522be635e9c4"
      },
      "outputs": [
        {
          "output_type": "execute_result",
          "data": {
            "text/plain": [
              "3136"
            ]
          },
          "metadata": {},
          "execution_count": 15
        }
      ],
      "source": [
        "64 * 7 * 7"
      ]
    },
    {
      "cell_type": "code",
      "execution_count": 16,
      "metadata": {
        "id": "chfz7lYZQvFi",
        "colab": {
          "base_uri": "https://localhost:8080/",
          "height": 287
        },
        "outputId": "d7e0da03-ef24-447c-9a49-4dc10687d68d"
      },
      "outputs": [
        {
          "output_type": "error",
          "ename": "RuntimeError",
          "evalue": "mat1 and mat2 shapes cannot be multiplied (64x49 and 3136x512)",
          "traceback": [
            "\u001b[0;31m---------------------------------------------------------------------------\u001b[0m",
            "\u001b[0;31mRuntimeError\u001b[0m                              Traceback (most recent call last)",
            "\u001b[0;32m<ipython-input-16-f9ed9273331b>\u001b[0m in \u001b[0;36m<cell line: 1>\u001b[0;34m()\u001b[0m\n\u001b[0;32m----> 1\u001b[0;31m \u001b[0mconv_net\u001b[0m\u001b[0;34m(\u001b[0m\u001b[0mx\u001b[0m\u001b[0;34m)\u001b[0m\u001b[0;34m\u001b[0m\u001b[0;34m\u001b[0m\u001b[0m\n\u001b[0m",
            "\u001b[0;32m/usr/local/lib/python3.10/dist-packages/torch/nn/modules/module.py\u001b[0m in \u001b[0;36m_wrapped_call_impl\u001b[0;34m(self, *args, **kwargs)\u001b[0m\n\u001b[1;32m   1509\u001b[0m             \u001b[0;32mreturn\u001b[0m \u001b[0mself\u001b[0m\u001b[0;34m.\u001b[0m\u001b[0m_compiled_call_impl\u001b[0m\u001b[0;34m(\u001b[0m\u001b[0;34m*\u001b[0m\u001b[0margs\u001b[0m\u001b[0;34m,\u001b[0m \u001b[0;34m**\u001b[0m\u001b[0mkwargs\u001b[0m\u001b[0;34m)\u001b[0m  \u001b[0;31m# type: ignore[misc]\u001b[0m\u001b[0;34m\u001b[0m\u001b[0;34m\u001b[0m\u001b[0m\n\u001b[1;32m   1510\u001b[0m         \u001b[0;32melse\u001b[0m\u001b[0;34m:\u001b[0m\u001b[0;34m\u001b[0m\u001b[0;34m\u001b[0m\u001b[0m\n\u001b[0;32m-> 1511\u001b[0;31m             \u001b[0;32mreturn\u001b[0m \u001b[0mself\u001b[0m\u001b[0;34m.\u001b[0m\u001b[0m_call_impl\u001b[0m\u001b[0;34m(\u001b[0m\u001b[0;34m*\u001b[0m\u001b[0margs\u001b[0m\u001b[0;34m,\u001b[0m \u001b[0;34m**\u001b[0m\u001b[0mkwargs\u001b[0m\u001b[0;34m)\u001b[0m\u001b[0;34m\u001b[0m\u001b[0;34m\u001b[0m\u001b[0m\n\u001b[0m\u001b[1;32m   1512\u001b[0m \u001b[0;34m\u001b[0m\u001b[0m\n\u001b[1;32m   1513\u001b[0m     \u001b[0;32mdef\u001b[0m \u001b[0m_call_impl\u001b[0m\u001b[0;34m(\u001b[0m\u001b[0mself\u001b[0m\u001b[0;34m,\u001b[0m \u001b[0;34m*\u001b[0m\u001b[0margs\u001b[0m\u001b[0;34m,\u001b[0m \u001b[0;34m**\u001b[0m\u001b[0mkwargs\u001b[0m\u001b[0;34m)\u001b[0m\u001b[0;34m:\u001b[0m\u001b[0;34m\u001b[0m\u001b[0;34m\u001b[0m\u001b[0m\n",
            "\u001b[0;32m/usr/local/lib/python3.10/dist-packages/torch/nn/modules/module.py\u001b[0m in \u001b[0;36m_call_impl\u001b[0;34m(self, *args, **kwargs)\u001b[0m\n\u001b[1;32m   1518\u001b[0m                 \u001b[0;32mor\u001b[0m \u001b[0m_global_backward_pre_hooks\u001b[0m \u001b[0;32mor\u001b[0m \u001b[0m_global_backward_hooks\u001b[0m\u001b[0;34m\u001b[0m\u001b[0;34m\u001b[0m\u001b[0m\n\u001b[1;32m   1519\u001b[0m                 or _global_forward_hooks or _global_forward_pre_hooks):\n\u001b[0;32m-> 1520\u001b[0;31m             \u001b[0;32mreturn\u001b[0m \u001b[0mforward_call\u001b[0m\u001b[0;34m(\u001b[0m\u001b[0;34m*\u001b[0m\u001b[0margs\u001b[0m\u001b[0;34m,\u001b[0m \u001b[0;34m**\u001b[0m\u001b[0mkwargs\u001b[0m\u001b[0;34m)\u001b[0m\u001b[0;34m\u001b[0m\u001b[0;34m\u001b[0m\u001b[0m\n\u001b[0m\u001b[1;32m   1521\u001b[0m \u001b[0;34m\u001b[0m\u001b[0m\n\u001b[1;32m   1522\u001b[0m         \u001b[0;32mtry\u001b[0m\u001b[0;34m:\u001b[0m\u001b[0;34m\u001b[0m\u001b[0;34m\u001b[0m\u001b[0m\n",
            "\u001b[0;32m<ipython-input-7-2383c8db5e2b>\u001b[0m in \u001b[0;36mforward\u001b[0;34m(self, x)\u001b[0m\n\u001b[1;32m     38\u001b[0m         \u001b[0mx\u001b[0m \u001b[0;34m=\u001b[0m \u001b[0mself\u001b[0m\u001b[0;34m.\u001b[0m\u001b[0mconv_stack\u001b[0m\u001b[0;34m(\u001b[0m\u001b[0mx\u001b[0m\u001b[0;34m)\u001b[0m\u001b[0;34m\u001b[0m\u001b[0;34m\u001b[0m\u001b[0m\n\u001b[1;32m     39\u001b[0m         \u001b[0mx\u001b[0m \u001b[0;34m=\u001b[0m \u001b[0mself\u001b[0m\u001b[0;34m.\u001b[0m\u001b[0mflatten\u001b[0m\u001b[0;34m(\u001b[0m\u001b[0mx\u001b[0m\u001b[0;34m)\u001b[0m\u001b[0;34m\u001b[0m\u001b[0;34m\u001b[0m\u001b[0m\n\u001b[0;32m---> 40\u001b[0;31m         \u001b[0mlogits\u001b[0m \u001b[0;34m=\u001b[0m \u001b[0mself\u001b[0m\u001b[0;34m.\u001b[0m\u001b[0mlinear_relu_stack\u001b[0m\u001b[0;34m(\u001b[0m\u001b[0mx\u001b[0m\u001b[0;34m)\u001b[0m\u001b[0;34m\u001b[0m\u001b[0;34m\u001b[0m\u001b[0m\n\u001b[0m\u001b[1;32m     41\u001b[0m         \u001b[0;32mreturn\u001b[0m \u001b[0mlogits\u001b[0m\u001b[0;34m\u001b[0m\u001b[0;34m\u001b[0m\u001b[0m\n\u001b[1;32m     42\u001b[0m \u001b[0;34m\u001b[0m\u001b[0m\n",
            "\u001b[0;32m/usr/local/lib/python3.10/dist-packages/torch/nn/modules/module.py\u001b[0m in \u001b[0;36m_wrapped_call_impl\u001b[0;34m(self, *args, **kwargs)\u001b[0m\n\u001b[1;32m   1509\u001b[0m             \u001b[0;32mreturn\u001b[0m \u001b[0mself\u001b[0m\u001b[0;34m.\u001b[0m\u001b[0m_compiled_call_impl\u001b[0m\u001b[0;34m(\u001b[0m\u001b[0;34m*\u001b[0m\u001b[0margs\u001b[0m\u001b[0;34m,\u001b[0m \u001b[0;34m**\u001b[0m\u001b[0mkwargs\u001b[0m\u001b[0;34m)\u001b[0m  \u001b[0;31m# type: ignore[misc]\u001b[0m\u001b[0;34m\u001b[0m\u001b[0;34m\u001b[0m\u001b[0m\n\u001b[1;32m   1510\u001b[0m         \u001b[0;32melse\u001b[0m\u001b[0;34m:\u001b[0m\u001b[0;34m\u001b[0m\u001b[0;34m\u001b[0m\u001b[0m\n\u001b[0;32m-> 1511\u001b[0;31m             \u001b[0;32mreturn\u001b[0m \u001b[0mself\u001b[0m\u001b[0;34m.\u001b[0m\u001b[0m_call_impl\u001b[0m\u001b[0;34m(\u001b[0m\u001b[0;34m*\u001b[0m\u001b[0margs\u001b[0m\u001b[0;34m,\u001b[0m \u001b[0;34m**\u001b[0m\u001b[0mkwargs\u001b[0m\u001b[0;34m)\u001b[0m\u001b[0;34m\u001b[0m\u001b[0;34m\u001b[0m\u001b[0m\n\u001b[0m\u001b[1;32m   1512\u001b[0m \u001b[0;34m\u001b[0m\u001b[0m\n\u001b[1;32m   1513\u001b[0m     \u001b[0;32mdef\u001b[0m \u001b[0m_call_impl\u001b[0m\u001b[0;34m(\u001b[0m\u001b[0mself\u001b[0m\u001b[0;34m,\u001b[0m \u001b[0;34m*\u001b[0m\u001b[0margs\u001b[0m\u001b[0;34m,\u001b[0m \u001b[0;34m**\u001b[0m\u001b[0mkwargs\u001b[0m\u001b[0;34m)\u001b[0m\u001b[0;34m:\u001b[0m\u001b[0;34m\u001b[0m\u001b[0;34m\u001b[0m\u001b[0m\n",
            "\u001b[0;32m/usr/local/lib/python3.10/dist-packages/torch/nn/modules/module.py\u001b[0m in \u001b[0;36m_call_impl\u001b[0;34m(self, *args, **kwargs)\u001b[0m\n\u001b[1;32m   1518\u001b[0m                 \u001b[0;32mor\u001b[0m \u001b[0m_global_backward_pre_hooks\u001b[0m \u001b[0;32mor\u001b[0m \u001b[0m_global_backward_hooks\u001b[0m\u001b[0;34m\u001b[0m\u001b[0;34m\u001b[0m\u001b[0m\n\u001b[1;32m   1519\u001b[0m                 or _global_forward_hooks or _global_forward_pre_hooks):\n\u001b[0;32m-> 1520\u001b[0;31m             \u001b[0;32mreturn\u001b[0m \u001b[0mforward_call\u001b[0m\u001b[0;34m(\u001b[0m\u001b[0;34m*\u001b[0m\u001b[0margs\u001b[0m\u001b[0;34m,\u001b[0m \u001b[0;34m**\u001b[0m\u001b[0mkwargs\u001b[0m\u001b[0;34m)\u001b[0m\u001b[0;34m\u001b[0m\u001b[0;34m\u001b[0m\u001b[0m\n\u001b[0m\u001b[1;32m   1521\u001b[0m \u001b[0;34m\u001b[0m\u001b[0m\n\u001b[1;32m   1522\u001b[0m         \u001b[0;32mtry\u001b[0m\u001b[0;34m:\u001b[0m\u001b[0;34m\u001b[0m\u001b[0;34m\u001b[0m\u001b[0m\n",
            "\u001b[0;32m/usr/local/lib/python3.10/dist-packages/torch/nn/modules/container.py\u001b[0m in \u001b[0;36mforward\u001b[0;34m(self, input)\u001b[0m\n\u001b[1;32m    215\u001b[0m     \u001b[0;32mdef\u001b[0m \u001b[0mforward\u001b[0m\u001b[0;34m(\u001b[0m\u001b[0mself\u001b[0m\u001b[0;34m,\u001b[0m \u001b[0minput\u001b[0m\u001b[0;34m)\u001b[0m\u001b[0;34m:\u001b[0m\u001b[0;34m\u001b[0m\u001b[0;34m\u001b[0m\u001b[0m\n\u001b[1;32m    216\u001b[0m         \u001b[0;32mfor\u001b[0m \u001b[0mmodule\u001b[0m \u001b[0;32min\u001b[0m \u001b[0mself\u001b[0m\u001b[0;34m:\u001b[0m\u001b[0;34m\u001b[0m\u001b[0;34m\u001b[0m\u001b[0m\n\u001b[0;32m--> 217\u001b[0;31m             \u001b[0minput\u001b[0m \u001b[0;34m=\u001b[0m \u001b[0mmodule\u001b[0m\u001b[0;34m(\u001b[0m\u001b[0minput\u001b[0m\u001b[0;34m)\u001b[0m\u001b[0;34m\u001b[0m\u001b[0;34m\u001b[0m\u001b[0m\n\u001b[0m\u001b[1;32m    218\u001b[0m         \u001b[0;32mreturn\u001b[0m \u001b[0minput\u001b[0m\u001b[0;34m\u001b[0m\u001b[0;34m\u001b[0m\u001b[0m\n\u001b[1;32m    219\u001b[0m \u001b[0;34m\u001b[0m\u001b[0m\n",
            "\u001b[0;32m/usr/local/lib/python3.10/dist-packages/torch/nn/modules/module.py\u001b[0m in \u001b[0;36m_wrapped_call_impl\u001b[0;34m(self, *args, **kwargs)\u001b[0m\n\u001b[1;32m   1509\u001b[0m             \u001b[0;32mreturn\u001b[0m \u001b[0mself\u001b[0m\u001b[0;34m.\u001b[0m\u001b[0m_compiled_call_impl\u001b[0m\u001b[0;34m(\u001b[0m\u001b[0;34m*\u001b[0m\u001b[0margs\u001b[0m\u001b[0;34m,\u001b[0m \u001b[0;34m**\u001b[0m\u001b[0mkwargs\u001b[0m\u001b[0;34m)\u001b[0m  \u001b[0;31m# type: ignore[misc]\u001b[0m\u001b[0;34m\u001b[0m\u001b[0;34m\u001b[0m\u001b[0m\n\u001b[1;32m   1510\u001b[0m         \u001b[0;32melse\u001b[0m\u001b[0;34m:\u001b[0m\u001b[0;34m\u001b[0m\u001b[0;34m\u001b[0m\u001b[0m\n\u001b[0;32m-> 1511\u001b[0;31m             \u001b[0;32mreturn\u001b[0m \u001b[0mself\u001b[0m\u001b[0;34m.\u001b[0m\u001b[0m_call_impl\u001b[0m\u001b[0;34m(\u001b[0m\u001b[0;34m*\u001b[0m\u001b[0margs\u001b[0m\u001b[0;34m,\u001b[0m \u001b[0;34m**\u001b[0m\u001b[0mkwargs\u001b[0m\u001b[0;34m)\u001b[0m\u001b[0;34m\u001b[0m\u001b[0;34m\u001b[0m\u001b[0m\n\u001b[0m\u001b[1;32m   1512\u001b[0m \u001b[0;34m\u001b[0m\u001b[0m\n\u001b[1;32m   1513\u001b[0m     \u001b[0;32mdef\u001b[0m \u001b[0m_call_impl\u001b[0m\u001b[0;34m(\u001b[0m\u001b[0mself\u001b[0m\u001b[0;34m,\u001b[0m \u001b[0;34m*\u001b[0m\u001b[0margs\u001b[0m\u001b[0;34m,\u001b[0m \u001b[0;34m**\u001b[0m\u001b[0mkwargs\u001b[0m\u001b[0;34m)\u001b[0m\u001b[0;34m:\u001b[0m\u001b[0;34m\u001b[0m\u001b[0;34m\u001b[0m\u001b[0m\n",
            "\u001b[0;32m/usr/local/lib/python3.10/dist-packages/torch/nn/modules/module.py\u001b[0m in \u001b[0;36m_call_impl\u001b[0;34m(self, *args, **kwargs)\u001b[0m\n\u001b[1;32m   1518\u001b[0m                 \u001b[0;32mor\u001b[0m \u001b[0m_global_backward_pre_hooks\u001b[0m \u001b[0;32mor\u001b[0m \u001b[0m_global_backward_hooks\u001b[0m\u001b[0;34m\u001b[0m\u001b[0;34m\u001b[0m\u001b[0m\n\u001b[1;32m   1519\u001b[0m                 or _global_forward_hooks or _global_forward_pre_hooks):\n\u001b[0;32m-> 1520\u001b[0;31m             \u001b[0;32mreturn\u001b[0m \u001b[0mforward_call\u001b[0m\u001b[0;34m(\u001b[0m\u001b[0;34m*\u001b[0m\u001b[0margs\u001b[0m\u001b[0;34m,\u001b[0m \u001b[0;34m**\u001b[0m\u001b[0mkwargs\u001b[0m\u001b[0;34m)\u001b[0m\u001b[0;34m\u001b[0m\u001b[0;34m\u001b[0m\u001b[0m\n\u001b[0m\u001b[1;32m   1521\u001b[0m \u001b[0;34m\u001b[0m\u001b[0m\n\u001b[1;32m   1522\u001b[0m         \u001b[0;32mtry\u001b[0m\u001b[0;34m:\u001b[0m\u001b[0;34m\u001b[0m\u001b[0;34m\u001b[0m\u001b[0m\n",
            "\u001b[0;32m/usr/local/lib/python3.10/dist-packages/torch/nn/modules/linear.py\u001b[0m in \u001b[0;36mforward\u001b[0;34m(self, input)\u001b[0m\n\u001b[1;32m    114\u001b[0m \u001b[0;34m\u001b[0m\u001b[0m\n\u001b[1;32m    115\u001b[0m     \u001b[0;32mdef\u001b[0m \u001b[0mforward\u001b[0m\u001b[0;34m(\u001b[0m\u001b[0mself\u001b[0m\u001b[0;34m,\u001b[0m \u001b[0minput\u001b[0m\u001b[0;34m:\u001b[0m \u001b[0mTensor\u001b[0m\u001b[0;34m)\u001b[0m \u001b[0;34m->\u001b[0m \u001b[0mTensor\u001b[0m\u001b[0;34m:\u001b[0m\u001b[0;34m\u001b[0m\u001b[0;34m\u001b[0m\u001b[0m\n\u001b[0;32m--> 116\u001b[0;31m         \u001b[0;32mreturn\u001b[0m \u001b[0mF\u001b[0m\u001b[0;34m.\u001b[0m\u001b[0mlinear\u001b[0m\u001b[0;34m(\u001b[0m\u001b[0minput\u001b[0m\u001b[0;34m,\u001b[0m \u001b[0mself\u001b[0m\u001b[0;34m.\u001b[0m\u001b[0mweight\u001b[0m\u001b[0;34m,\u001b[0m \u001b[0mself\u001b[0m\u001b[0;34m.\u001b[0m\u001b[0mbias\u001b[0m\u001b[0;34m)\u001b[0m\u001b[0;34m\u001b[0m\u001b[0;34m\u001b[0m\u001b[0m\n\u001b[0m\u001b[1;32m    117\u001b[0m \u001b[0;34m\u001b[0m\u001b[0m\n\u001b[1;32m    118\u001b[0m     \u001b[0;32mdef\u001b[0m \u001b[0mextra_repr\u001b[0m\u001b[0;34m(\u001b[0m\u001b[0mself\u001b[0m\u001b[0;34m)\u001b[0m \u001b[0;34m->\u001b[0m \u001b[0mstr\u001b[0m\u001b[0;34m:\u001b[0m\u001b[0;34m\u001b[0m\u001b[0;34m\u001b[0m\u001b[0m\n",
            "\u001b[0;31mRuntimeError\u001b[0m: mat1 and mat2 shapes cannot be multiplied (64x49 and 3136x512)"
          ]
        }
      ],
      "source": [
        "conv_net(x)"
      ]
    },
    {
      "cell_type": "code",
      "execution_count": null,
      "metadata": {
        "id": "4auJPeq-QbvI"
      },
      "outputs": [],
      "source": [
        "x.shape"
      ]
    },
    {
      "cell_type": "code",
      "source": [
        "\n",
        "from sklearn.metrics import confusion_matrix\n",
        "import seaborn as sn\n",
        "import pandas as pd\n",
        "import numpy\n",
        "\n",
        "# constant for classes\n",
        "classes = ('T-shirt/top', 'Trouser', 'Pullover', 'Dress', 'Coat',\n",
        "        'Sandal', 'Shirt', 'Sneaker', 'Bag', 'Ankle Boot')\n",
        "\n",
        "def build_conf_matrix(pt_model,dataloader, data_classes):\n",
        "  y_pred = []\n",
        "  y_true = []\n",
        "# iterate over test data\n",
        "  for inputs, labels in dataloader:\n",
        "      output = pt_model(inputs) # Feed Network\n",
        "      output = (torch.max(torch.exp(output), 1)[1]).data.cpu().numpy()\n",
        "      y_pred.extend(output) # Save Prediction\n",
        "      labels = labels.data.cpu().numpy()\n",
        "      y_true.extend(labels) # Save Truth\n",
        "\n",
        "      # Build confusion matrix\n",
        "  cf_matrix = confusion_matrix(y_true, y_pred)\n",
        "  df_cm = pd.DataFrame(cf_matrix / numpy.sum(cf_matrix, axis=1)[:, None],\n",
        "                           index = [i for i in classes],\n",
        "                           columns = [i for i in classes])\n",
        "  plt.figure(figsize = (12,7))\n",
        "  sn.heatmap(df_cm, annot=True)"
      ],
      "metadata": {
        "id": "l4kkWaTP737E"
      },
      "execution_count": 17,
      "outputs": []
    },
    {
      "cell_type": "code",
      "source": [
        "build_conf_matrix(model, test_dataloader, classes)"
      ],
      "metadata": {
        "colab": {
          "base_uri": "https://localhost:8080/",
          "height": 599
        },
        "id": "VlZC4ZwrzRFS",
        "outputId": "ed680ce9-88cc-473f-ca67-f01636d0eaf3"
      },
      "execution_count": 18,
      "outputs": [
        {
          "output_type": "display_data",
          "data": {
            "text/plain": [
              "<Figure size 1200x700 with 2 Axes>"
            ],
            "image/png": "[encoded data removed]"
          },
          "metadata": {}
        }
      ]
    },
    {
      "cell_type": "markdown",
      "source": [
        " Эта модель путает класс Coat"
      ],
      "metadata": {
        "id": "671NiiIj2v5M"
      }
    },
    {
      "cell_type": "code",
      "source": [],
      "metadata": {
        "id": "x9XZVZzBc-53"
      },
      "execution_count": null,
      "outputs": []
    },
    {
      "cell_type": "code",
      "source": [
        "build_conf_matrix(model_2, test_dataloader, classes)"
      ],
      "metadata": {
        "colab": {
          "base_uri": "https://localhost:8080/",
          "height": 599
        },
        "id": "De6tlC_tzy7-",
        "outputId": "8be68c86-789e-4521-ca7c-ffc5461ad573"
      },
      "execution_count": 19,
      "outputs": [
        {
          "output_type": "display_data",
          "data": {
            "text/plain": [
              "<Figure size 1200x700 with 2 Axes>"
            ],
            "image/png": "[encoded data removed]"
          },
          "metadata": {}
        }
      ]
    },
    {
      "cell_type": "markdown",
      "source": [
        " Модель номер 2 в основном путает класс T-short.\n"
      ],
      "metadata": {
        "id": "Qi4LYuXf2oaX"
      }
    },
    {
      "cell_type": "markdown",
      "source": [],
      "metadata": {
        "id": "nTcNHkiUcmil"
      }
    },
    {
      "cell_type": "markdown",
      "metadata": {
        "id": "tXLxueDDr2Jk"
      },
      "source": [
        "------------------------------------------------------------------------\n"
      ]
    },
    {
      "cell_type": "markdown",
      "metadata": {
        "id": "Kd04BxG8r2Jk"
      },
      "source": [
        "Saving Models\n",
        "=============\n",
        "\n",
        "A common way to save a model is to serialize the internal state\n",
        "dictionary (containing the model parameters).\n"
      ]
    },
    {
      "cell_type": "code",
      "execution_count": 22,
      "metadata": {
        "id": "KmVMbgmGr2Jk",
        "colab": {
          "base_uri": "https://localhost:8080/"
        },
        "outputId": "1d5a477a-5b51-4b0d-d353-f8c97edd9730"
      },
      "outputs": [
        {
          "output_type": "stream",
          "name": "stdout",
          "text": [
            "Saved PyTorch Model State to model.pth\n",
            "Saved PyTorch Model State to model_2.pth\n"
          ]
        }
      ],
      "source": [
        "torch.save(model.state_dict(), \"model.pth\")\n",
        "print(\"Saved PyTorch Model State to model.pth\")\n",
        "torch.save(model_2.state_dict(), \"model.pth\")\n",
        "print(\"Saved PyTorch Model State to model_2.pth\")"
      ]
    },
    {
      "cell_type": "markdown",
      "metadata": {
        "id": "Kc5q2Bbvr2Jk"
      },
      "source": [
        "Loading Models\n",
        "==============\n",
        "\n",
        "The process for loading a model includes re-creating the model structure\n",
        "and loading the state dictionary into it.\n"
      ]
    },
    {
      "cell_type": "code",
      "execution_count": 23,
      "metadata": {
        "id": "wWhxdVJar2Jk",
        "colab": {
          "base_uri": "https://localhost:8080/",
          "height": 523
        },
        "outputId": "2053de84-8c70-4b74-cf2c-108b563dbc31"
      },
      "outputs": [
        {
          "output_type": "error",
          "ename": "RuntimeError",
          "evalue": "Error(s) in loading state_dict for NeuralNetwork:\n\tUnexpected key(s) in state_dict: \"linear_relu_stack.6.weight\", \"linear_relu_stack.6.bias\", \"linear_relu_stack.8.weight\", \"linear_relu_stack.8.bias\". \n\tsize mismatch for linear_relu_stack.0.weight: copying a param with shape torch.Size([1024, 784]) from checkpoint, the shape in current model is torch.Size([512, 784]).\n\tsize mismatch for linear_relu_stack.0.bias: copying a param with shape torch.Size([1024]) from checkpoint, the shape in current model is torch.Size([512]).\n\tsize mismatch for linear_relu_stack.2.weight: copying a param with shape torch.Size([1024, 1024]) from checkpoint, the shape in current model is torch.Size([512, 512]).\n\tsize mismatch for linear_relu_stack.2.bias: copying a param with shape torch.Size([1024]) from checkpoint, the shape in current model is torch.Size([512]).\n\tsize mismatch for linear_relu_stack.4.weight: copying a param with shape torch.Size([1024, 1024]) from checkpoint, the shape in current model is torch.Size([10, 512]).\n\tsize mismatch for linear_relu_stack.4.bias: copying a param with shape torch.Size([1024]) from checkpoint, the shape in current model is torch.Size([10]).",
          "traceback": [
            "\u001b[0;31m---------------------------------------------------------------------------\u001b[0m",
            "\u001b[0;31mRuntimeError\u001b[0m                              Traceback (most recent call last)",
            "\u001b[0;32m<ipython-input-23-1b4ba3338109>\u001b[0m in \u001b[0;36m<cell line: 2>\u001b[0;34m()\u001b[0m\n\u001b[1;32m      1\u001b[0m \u001b[0mmodel\u001b[0m \u001b[0;34m=\u001b[0m \u001b[0mNeuralNetwork\u001b[0m\u001b[0;34m(\u001b[0m\u001b[0mlinear_relu_stack_1\u001b[0m\u001b[0;34m)\u001b[0m\u001b[0;34m.\u001b[0m\u001b[0mto\u001b[0m\u001b[0;34m(\u001b[0m\u001b[0mdevice\u001b[0m\u001b[0;34m)\u001b[0m\u001b[0;34m\u001b[0m\u001b[0;34m\u001b[0m\u001b[0m\n\u001b[0;32m----> 2\u001b[0;31m \u001b[0mmodel\u001b[0m\u001b[0;34m.\u001b[0m\u001b[0mload_state_dict\u001b[0m\u001b[0;34m(\u001b[0m\u001b[0mtorch\u001b[0m\u001b[0;34m.\u001b[0m\u001b[0mload\u001b[0m\u001b[0;34m(\u001b[0m\u001b[0;34m\"model.pth\"\u001b[0m\u001b[0;34m)\u001b[0m\u001b[0;34m)\u001b[0m\u001b[0;34m\u001b[0m\u001b[0;34m\u001b[0m\u001b[0m\n\u001b[0m",
            "\u001b[0;32m/usr/local/lib/python3.10/dist-packages/torch/nn/modules/module.py\u001b[0m in \u001b[0;36mload_state_dict\u001b[0;34m(self, state_dict, strict, assign)\u001b[0m\n\u001b[1;32m   2151\u001b[0m \u001b[0;34m\u001b[0m\u001b[0m\n\u001b[1;32m   2152\u001b[0m         \u001b[0;32mif\u001b[0m \u001b[0mlen\u001b[0m\u001b[0;34m(\u001b[0m\u001b[0merror_msgs\u001b[0m\u001b[0;34m)\u001b[0m \u001b[0;34m>\u001b[0m \u001b[0;36m0\u001b[0m\u001b[0;34m:\u001b[0m\u001b[0;34m\u001b[0m\u001b[0;34m\u001b[0m\u001b[0m\n\u001b[0;32m-> 2153\u001b[0;31m             raise RuntimeError('Error(s) in loading state_dict for {}:\\n\\t{}'.format(\n\u001b[0m\u001b[1;32m   2154\u001b[0m                                self.__class__.__name__, \"\\n\\t\".join(error_msgs)))\n\u001b[1;32m   2155\u001b[0m         \u001b[0;32mreturn\u001b[0m \u001b[0m_IncompatibleKeys\u001b[0m\u001b[0;34m(\u001b[0m\u001b[0mmissing_keys\u001b[0m\u001b[0;34m,\u001b[0m \u001b[0munexpected_keys\u001b[0m\u001b[0;34m)\u001b[0m\u001b[0;34m\u001b[0m\u001b[0;34m\u001b[0m\u001b[0m\n",
            "\u001b[0;31mRuntimeError\u001b[0m: Error(s) in loading state_dict for NeuralNetwork:\n\tUnexpected key(s) in state_dict: \"linear_relu_stack.6.weight\", \"linear_relu_stack.6.bias\", \"linear_relu_stack.8.weight\", \"linear_relu_stack.8.bias\". \n\tsize mismatch for linear_relu_stack.0.weight: copying a param with shape torch.Size([1024, 784]) from checkpoint, the shape in current model is torch.Size([512, 784]).\n\tsize mismatch for linear_relu_stack.0.bias: copying a param with shape torch.Size([1024]) from checkpoint, the shape in current model is torch.Size([512]).\n\tsize mismatch for linear_relu_stack.2.weight: copying a param with shape torch.Size([1024, 1024]) from checkpoint, the shape in current model is torch.Size([512, 512]).\n\tsize mismatch for linear_relu_stack.2.bias: copying a param with shape torch.Size([1024]) from checkpoint, the shape in current model is torch.Size([512]).\n\tsize mismatch for linear_relu_stack.4.weight: copying a param with shape torch.Size([1024, 1024]) from checkpoint, the shape in current model is torch.Size([10, 512]).\n\tsize mismatch for linear_relu_stack.4.bias: copying a param with shape torch.Size([1024]) from checkpoint, the shape in current model is torch.Size([10])."
          ]
        }
      ],
      "source": [
        "model = NeuralNetwork(linear_relu_stack_1).to(device)\n",
        "model.load_state_dict(torch.load(\"model.pth\"))"
      ]
    },
    {
      "cell_type": "markdown",
      "metadata": {
        "id": "dT8YXzIvr2Jk"
      },
      "source": [
        "This model can now be used to make predictions.\n"
      ]
    },
    {
      "cell_type": "markdown",
      "metadata": {
        "id": "p4fIJMCGr2Jk"
      },
      "source": [
        "Read more about [Saving & Loading your\n",
        "model](saveloadrun_tutorial.html).\n"
      ]
    },
    {
      "cell_type": "code",
      "source": [
        "import urllib.request\n",
        "import numpy as np\n",
        "\n",
        "\n",
        "from sklearn.metrics import roc_auc_score\n",
        "from sklearn.model_selection import train_test_split\n",
        "\n",
        "url = 'https://raw.githubusercontent.com/svgen83/ml_python_blastim/main/Pokemon.csv'\n",
        "resp = urllib.request.urlopen(url)\n",
        "\n",
        "pokemon = pd.read_csv(resp)\n",
        "\n",
        "pokemon.head(3)\n"
      ],
      "metadata": {
        "colab": {
          "base_uri": "https://localhost:8080/",
          "height": 143
        },
        "id": "8zgvqOAR4o7G",
        "outputId": "f5326ea9-0413-447d-b2f2-e2e04e23e902"
      },
      "execution_count": 82,
      "outputs": [
        {
          "output_type": "execute_result",
          "data": {
            "text/plain": [
              "   #       Name Type 1  Type 2  Total  HP  Attack  Defense  Sp. Atk  Sp. Def  \\\n",
              "0  1  Bulbasaur  Grass  Poison    318  45      49       49       65       65   \n",
              "1  2    Ivysaur  Grass  Poison    405  60      62       63       80       80   \n",
              "2  3   Venusaur  Grass  Poison    525  80      82       83      100      100   \n",
              "\n",
              "   Speed  Generation  Legendary  \n",
              "0     45           1      False  \n",
              "1     60           1      False  \n",
              "2     80           1      False  "
            ],
            "text/html": [
              "\n",
              "  <div id=\"df-3c16a8a7-3a12-45b3-ae74-602dce1e97d8\" class=\"colab-df-container\">\n",
              "    <div>\n",
              "<style scoped>\n",
              "    .dataframe tbody tr th:only-of-type {\n",
              "        vertical-align: middle;\n",
              "    }\n",
              "\n",
              "    .dataframe tbody tr th {\n",
              "        vertical-align: top;\n",
              "    }\n",
              "\n",
              "    .dataframe thead th {\n",
              "        text-align: right;\n",
              "    }\n",
              "</style>\n",
              "<table border=\"1\" class=\"dataframe\">\n",
              "  <thead>\n",
              "    <tr style=\"text-align: right;\">\n",
              "      <th></th>\n",
              "      <th>#</th>\n",
              "      <th>Name</th>\n",
              "      <th>Type 1</th>\n",
              "      <th>Type 2</th>\n",
              "      <th>Total</th>\n",
              "      <th>HP</th>\n",
              "      <th>Attack</th>\n",
              "      <th>Defense</th>\n",
              "      <th>Sp. Atk</th>\n",
              "      <th>Sp. Def</th>\n",
              "      <th>Speed</th>\n",
              "      <th>Generation</th>\n",
              "      <th>Legendary</th>\n",
              "    </tr>\n",
              "  </thead>\n",
              "  <tbody>\n",
              "    <tr>\n",
              "      <th>0</th>\n",
              "      <td>1</td>\n",
              "      <td>Bulbasaur</td>\n",
              "      <td>Grass</td>\n",
              "      <td>Poison</td>\n",
              "      <td>318</td>\n",
              "      <td>45</td>\n",
              "      <td>49</td>\n",
              "      <td>49</td>\n",
              "      <td>65</td>\n",
              "      <td>65</td>\n",
              "      <td>45</td>\n",
              "      <td>1</td>\n",
              "      <td>False</td>\n",
              "    </tr>\n",
              "    <tr>\n",
              "      <th>1</th>\n",
              "      <td>2</td>\n",
              "      <td>Ivysaur</td>\n",
              "      <td>Grass</td>\n",
              "      <td>Poison</td>\n",
              "      <td>405</td>\n",
              "      <td>60</td>\n",
              "      <td>62</td>\n",
              "      <td>63</td>\n",
              "      <td>80</td>\n",
              "      <td>80</td>\n",
              "      <td>60</td>\n",
              "      <td>1</td>\n",
              "      <td>False</td>\n",
              "    </tr>\n",
              "    <tr>\n",
              "      <th>2</th>\n",
              "      <td>3</td>\n",
              "      <td>Venusaur</td>\n",
              "      <td>Grass</td>\n",
              "      <td>Poison</td>\n",
              "      <td>525</td>\n",
              "      <td>80</td>\n",
              "      <td>82</td>\n",
              "      <td>83</td>\n",
              "      <td>100</td>\n",
              "      <td>100</td>\n",
              "      <td>80</td>\n",
              "      <td>1</td>\n",
              "      <td>False</td>\n",
              "    </tr>\n",
              "  </tbody>\n",
              "</table>\n",
              "</div>\n",
              "    <div class=\"colab-df-buttons\">\n",
              "\n",
              "  <div class=\"colab-df-container\">\n",
              "    <button class=\"colab-df-convert\" onclick=\"convertToInteractive('df-3c16a8a7-3a12-45b3-ae74-602dce1e97d8')\"\n",
              "            title=\"Convert this dataframe to an interactive table.\"\n",
              "            style=\"display:none;\">\n",
              "\n",
              "  <svg xmlns=\"http://www.w3.org/2000/svg\" height=\"24px\" viewBox=\"0 -960 960 960\">\n",
              "    <path d=\"M120-120v-720h720v720H120Zm60-500h600v-160H180v160Zm220 220h160v-160H400v160Zm0 220h160v-160H400v160ZM180-400h160v-160H180v160Zm440 0h160v-160H620v160ZM180-180h160v-160H180v160Zm440 0h160v-160H620v160Z\"/>\n",
              "  </svg>\n",
              "    </button>\n",
              "\n",
              "  <style>\n",
              "    .colab-df-container {\n",
              "      display:flex;\n",
              "      gap: 12px;\n",
              "    }\n",
              "\n",
              "    .colab-df-convert {\n",
              "      background-color: #E8F0FE;\n",
              "      border: none;\n",
              "      border-radius: 50%;\n",
              "      cursor: pointer;\n",
              "      display: none;\n",
              "      fill: #1967D2;\n",
              "      height: 32px;\n",
              "      padding: 0 0 0 0;\n",
              "      width: 32px;\n",
              "    }\n",
              "\n",
              "    .colab-df-convert:hover {\n",
              "      background-color: #E2EBFA;\n",
              "      box-shadow: 0px 1px 2px rgba(60, 64, 67, 0.3), 0px 1px 3px 1px rgba(60, 64, 67, 0.15);\n",
              "      fill: #174EA6;\n",
              "    }\n",
              "\n",
              "    .colab-df-buttons div {\n",
              "      margin-bottom: 4px;\n",
              "    }\n",
              "\n",
              "    [theme=dark] .colab-df-convert {\n",
              "      background-color: #3B4455;\n",
              "      fill: #D2E3FC;\n",
              "    }\n",
              "\n",
              "    [theme=dark] .colab-df-convert:hover {\n",
              "      background-color: #434B5C;\n",
              "      box-shadow: 0px 1px 3px 1px rgba(0, 0, 0, 0.15);\n",
              "      filter: drop-shadow(0px 1px 2px rgba(0, 0, 0, 0.3));\n",
              "      fill: #FFFFFF;\n",
              "    }\n",
              "  </style>\n",
              "\n",
              "    <script>\n",
              "      const buttonEl =\n",
              "        document.querySelector('#df-3c16a8a7-3a12-45b3-ae74-602dce1e97d8 button.colab-df-convert');\n",
              "      buttonEl.style.display =\n",
              "        google.colab.kernel.accessAllowed ? 'block' : 'none';\n",
              "\n",
              "      async function convertToInteractive(key) {\n",
              "        const element = document.querySelector('#df-3c16a8a7-3a12-45b3-ae74-602dce1e97d8');\n",
              "        const dataTable =\n",
              "          await google.colab.kernel.invokeFunction('convertToInteractive',\n",
              "                                                    [key], {});\n",
              "        if (!dataTable) return;\n",
              "\n",
              "        const docLinkHtml = 'Like what you see? Visit the ' +\n",
              "          '<a target=\"_blank\" href=https://colab.research.google.com/notebooks/data_table.ipynb>data table notebook</a>'\n",
              "          + ' to learn more about interactive tables.';\n",
              "        element.innerHTML = '';\n",
              "        dataTable['output_type'] = 'display_data';\n",
              "        await google.colab.output.renderOutput(dataTable, element);\n",
              "        const docLink = document.createElement('div');\n",
              "        docLink.innerHTML = docLinkHtml;\n",
              "        element.appendChild(docLink);\n",
              "      }\n",
              "    </script>\n",
              "  </div>\n",
              "\n",
              "\n",
              "<div id=\"df-d773eb56-dc3f-42ea-b2e8-dce28e3a9432\">\n",
              "  <button class=\"colab-df-quickchart\" onclick=\"quickchart('df-d773eb56-dc3f-42ea-b2e8-dce28e3a9432')\"\n",
              "            title=\"Suggest charts\"\n",
              "            style=\"display:none;\">\n",
              "\n",
              "<svg xmlns=\"http://www.w3.org/2000/svg\" height=\"24px\"viewBox=\"0 0 24 24\"\n",
              "     width=\"24px\">\n",
              "    <g>\n",
              "        <path d=\"M19 3H5c-1.1 0-2 .9-2 2v14c0 1.1.9 2 2 2h14c1.1 0 2-.9 2-2V5c0-1.1-.9-2-2-2zM9 17H7v-7h2v7zm4 0h-2V7h2v10zm4 0h-2v-4h2v4z\"/>\n",
              "    </g>\n",
              "</svg>\n",
              "  </button>\n",
              "\n",
              "<style>\n",
              "  .colab-df-quickchart {\n",
              "      --bg-color: #E8F0FE;\n",
              "      --fill-color: #1967D2;\n",
              "      --hover-bg-color: #E2EBFA;\n",
              "      --hover-fill-color: #174EA6;\n",
              "      --disabled-fill-color: #AAA;\n",
              "      --disabled-bg-color: #DDD;\n",
              "  }\n",
              "\n",
              "  [theme=dark] .colab-df-quickchart {\n",
              "      --bg-color: #3B4455;\n",
              "      --fill-color: #D2E3FC;\n",
              "      --hover-bg-color: #434B5C;\n",
              "      --hover-fill-color: #FFFFFF;\n",
              "      --disabled-bg-color: #3B4455;\n",
              "      --disabled-fill-color: #666;\n",
              "  }\n",
              "\n",
              "  .colab-df-quickchart {\n",
              "    background-color: var(--bg-color);\n",
              "    border: none;\n",
              "    border-radius: 50%;\n",
              "    cursor: pointer;\n",
              "    display: none;\n",
              "    fill: var(--fill-color);\n",
              "    height: 32px;\n",
              "    padding: 0;\n",
              "    width: 32px;\n",
              "  }\n",
              "\n",
              "  .colab-df-quickchart:hover {\n",
              "    background-color: var(--hover-bg-color);\n",
              "    box-shadow: 0 1px 2px rgba(60, 64, 67, 0.3), 0 1px 3px 1px rgba(60, 64, 67, 0.15);\n",
              "    fill: var(--button-hover-fill-color);\n",
              "  }\n",
              "\n",
              "  .colab-df-quickchart-complete:disabled,\n",
              "  .colab-df-quickchart-complete:disabled:hover {\n",
              "    background-color: var(--disabled-bg-color);\n",
              "    fill: var(--disabled-fill-color);\n",
              "    box-shadow: none;\n",
              "  }\n",
              "\n",
              "  .colab-df-spinner {\n",
              "    border: 2px solid var(--fill-color);\n",
              "    border-color: transparent;\n",
              "    border-bottom-color: var(--fill-color);\n",
              "    animation:\n",
              "      spin 1s steps(1) infinite;\n",
              "  }\n",
              "\n",
              "  @keyframes spin {\n",
              "    0% {\n",
              "      border-color: transparent;\n",
              "      border-bottom-color: var(--fill-color);\n",
              "      border-left-color: var(--fill-color);\n",
              "    }\n",
              "    20% {\n",
              "      border-color: transparent;\n",
              "      border-left-color: var(--fill-color);\n",
              "      border-top-color: var(--fill-color);\n",
              "    }\n",
              "    30% {\n",
              "      border-color: transparent;\n",
              "      border-left-color: var(--fill-color);\n",
              "      border-top-color: var(--fill-color);\n",
              "      border-right-color: var(--fill-color);\n",
              "    }\n",
              "    40% {\n",
              "      border-color: transparent;\n",
              "      border-right-color: var(--fill-color);\n",
              "      border-top-color: var(--fill-color);\n",
              "    }\n",
              "    60% {\n",
              "      border-color: transparent;\n",
              "      border-right-color: var(--fill-color);\n",
              "    }\n",
              "    80% {\n",
              "      border-color: transparent;\n",
              "      border-right-color: var(--fill-color);\n",
              "      border-bottom-color: var(--fill-color);\n",
              "    }\n",
              "    90% {\n",
              "      border-color: transparent;\n",
              "      border-bottom-color: var(--fill-color);\n",
              "    }\n",
              "  }\n",
              "</style>\n",
              "\n",
              "  <script>\n",
              "    async function quickchart(key) {\n",
              "      const quickchartButtonEl =\n",
              "        document.querySelector('#' + key + ' button');\n",
              "      quickchartButtonEl.disabled = true;  // To prevent multiple clicks.\n",
              "      quickchartButtonEl.classList.add('colab-df-spinner');\n",
              "      try {\n",
              "        const charts = await google.colab.kernel.invokeFunction(\n",
              "            'suggestCharts', [key], {});\n",
              "      } catch (error) {\n",
              "        console.error('Error during call to suggestCharts:', error);\n",
              "      }\n",
              "      quickchartButtonEl.classList.remove('colab-df-spinner');\n",
              "      quickchartButtonEl.classList.add('colab-df-quickchart-complete');\n",
              "    }\n",
              "    (() => {\n",
              "      let quickchartButtonEl =\n",
              "        document.querySelector('#df-d773eb56-dc3f-42ea-b2e8-dce28e3a9432 button');\n",
              "      quickchartButtonEl.style.display =\n",
              "        google.colab.kernel.accessAllowed ? 'block' : 'none';\n",
              "    })();\n",
              "  </script>\n",
              "</div>\n",
              "    </div>\n",
              "  </div>\n"
            ],
            "application/vnd.google.colaboratory.intrinsic+json": {
              "type": "dataframe",
              "variable_name": "pokemon",
              "summary": "{\n  \"name\": \"pokemon\",\n  \"rows\": 800,\n  \"fields\": [\n    {\n      \"column\": \"#\",\n      \"properties\": {\n        \"dtype\": \"number\",\n        \"std\": 208,\n        \"min\": 1,\n        \"max\": 721,\n        \"num_unique_values\": 721,\n        \"samples\": [\n          260,\n          659,\n          78\n        ],\n        \"semantic_type\": \"\",\n        \"description\": \"\"\n      }\n    },\n    {\n      \"column\": \"Name\",\n      \"properties\": {\n        \"dtype\": \"string\",\n        \"num_unique_values\": 800,\n        \"samples\": [\n          \"Hydreigon\",\n          \"Beheeyem\",\n          \"Growlithe\"\n        ],\n        \"semantic_type\": \"\",\n        \"description\": \"\"\n      }\n    },\n    {\n      \"column\": \"Type 1\",\n      \"properties\": {\n        \"dtype\": \"category\",\n        \"num_unique_values\": 18,\n        \"samples\": [\n          \"Grass\",\n          \"Fire\",\n          \"Fairy\"\n        ],\n        \"semantic_type\": \"\",\n        \"description\": \"\"\n      }\n    },\n    {\n      \"column\": \"Type 2\",\n      \"properties\": {\n        \"dtype\": \"category\",\n        \"num_unique_values\": 18,\n        \"samples\": [\n          \"Poison\",\n          \"Flying\",\n          \"Steel\"\n        ],\n        \"semantic_type\": \"\",\n        \"description\": \"\"\n      }\n    },\n    {\n      \"column\": \"Total\",\n      \"properties\": {\n        \"dtype\": \"number\",\n        \"std\": 119,\n        \"min\": 180,\n        \"max\": 780,\n        \"num_unique_values\": 200,\n        \"samples\": [\n          700,\n          349,\n          505\n        ],\n        \"semantic_type\": \"\",\n        \"description\": \"\"\n      }\n    },\n    {\n      \"column\": \"HP\",\n      \"properties\": {\n        \"dtype\": \"number\",\n        \"std\": 25,\n        \"min\": 1,\n        \"max\": 255,\n        \"num_unique_values\": 94,\n        \"samples\": [\n          106,\n          81,\n          170\n        ],\n        \"semantic_type\": \"\",\n        \"description\": \"\"\n      }\n    },\n    {\n      \"column\": \"Attack\",\n      \"properties\": {\n        \"dtype\": \"number\",\n        \"std\": 32,\n        \"min\": 5,\n        \"max\": 190,\n        \"num_unique_values\": 111,\n        \"samples\": [\n          79,\n          63,\n          52\n        ],\n        \"semantic_type\": \"\",\n        \"description\": \"\"\n      }\n    },\n    {\n      \"column\": \"Defense\",\n      \"properties\": {\n        \"dtype\": \"number\",\n        \"std\": 31,\n        \"min\": 5,\n        \"max\": 230,\n        \"num_unique_values\": 103,\n        \"samples\": [\n          20,\n          88,\n          23\n        ],\n        \"semantic_type\": \"\",\n        \"description\": \"\"\n      }\n    },\n    {\n      \"column\": \"Sp. Atk\",\n      \"properties\": {\n        \"dtype\": \"number\",\n        \"std\": 32,\n        \"min\": 10,\n        \"max\": 194,\n        \"num_unique_values\": 105,\n        \"samples\": [\n          58,\n          150,\n          160\n        ],\n        \"semantic_type\": \"\",\n        \"description\": \"\"\n      }\n    },\n    {\n      \"column\": \"Sp. Def\",\n      \"properties\": {\n        \"dtype\": \"number\",\n        \"std\": 27,\n        \"min\": 20,\n        \"max\": 230,\n        \"num_unique_values\": 92,\n        \"samples\": [\n          154,\n          45,\n          44\n        ],\n        \"semantic_type\": \"\",\n        \"description\": \"\"\n      }\n    },\n    {\n      \"column\": \"Speed\",\n      \"properties\": {\n        \"dtype\": \"number\",\n        \"std\": 29,\n        \"min\": 5,\n        \"max\": 180,\n        \"num_unique_values\": 108,\n        \"samples\": [\n          113,\n          50,\n          100\n        ],\n        \"semantic_type\": \"\",\n        \"description\": \"\"\n      }\n    },\n    {\n      \"column\": \"Generation\",\n      \"properties\": {\n        \"dtype\": \"number\",\n        \"std\": 1,\n        \"min\": 1,\n        \"max\": 6,\n        \"num_unique_values\": 6,\n        \"samples\": [\n          1,\n          2,\n          6\n        ],\n        \"semantic_type\": \"\",\n        \"description\": \"\"\n      }\n    },\n    {\n      \"column\": \"Legendary\",\n      \"properties\": {\n        \"dtype\": \"boolean\",\n        \"num_unique_values\": 2,\n        \"samples\": [\n          true,\n          false\n        ],\n        \"semantic_type\": \"\",\n        \"description\": \"\"\n      }\n    }\n  ]\n}"
            }
          },
          "metadata": {},
          "execution_count": 82
        }
      ]
    },
    {
      "cell_type": "code",
      "source": [
        "X = pokemon[[\"Total\", \"HP\", \"Attack\",'Defense', 'Sp. Atk', 'Sp. Def', 'Speed', 'Generation' ]]\n",
        "Y = pokemon.Legendary.replace({True:1, False :0})"
      ],
      "metadata": {
        "id": "VKMbI5JX-anG"
      },
      "execution_count": 91,
      "outputs": []
    },
    {
      "cell_type": "code",
      "source": [
        "y_tensor = torch.from_numpy(Y.values.reshape(-1, 1)).float()\n",
        "X_tensor = torch.from_numpy(X.values).float()\n",
        "# нормирование данных\n",
        "x_tensor = (X_tensor - X_tensor.mean(axis=0)) / X_tensor.std(axis=0)"
      ],
      "metadata": {
        "id": "_j7W2WmrCA-T"
      },
      "execution_count": 96,
      "outputs": []
    },
    {
      "cell_type": "code",
      "source": [
        "def logistic(z):\n",
        "    return 1 / (1 + torch.exp(-z))\n",
        "\n",
        "def logistic_reg_model(X, w, b):\n",
        "    return logistic(X @ w.t() + b)\n",
        "\n",
        "def binary_cross_entropy(predicted, true):\n",
        "    return -(true * predicted.log() + (1 - true) * (1 - predicted).log()).mean()"
      ],
      "metadata": {
        "id": "zky8zcgU7w_-"
      },
      "execution_count": 98,
      "outputs": []
    },
    {
      "cell_type": "code",
      "source": [
        "epochs = 1000\n",
        "learning_rate = 0.001\n",
        "\n",
        "# инициализируем параметры нулями\n",
        "# и начинаем записывать историю вычислений\n",
        "weight = torch.zeros(y_tensor.shape[1], x_tensor.shape[1], requires_grad=True)\n",
        "bias = torch.zeros(y_tensor.shape[1], requires_grad=True)\n",
        "\n",
        "\n",
        "for epoch in range(epochs):\n",
        "    # forward pass — вычисляем функцию потерь\n",
        "    predictions = logistic_reg_model(x_tensor, weight, bias)\n",
        "    loss = binary_cross_entropy(predictions, y_tensor)\n",
        "    # backward paass — вычисляем градиент\n",
        "    loss.backward()\n",
        "    # вычитаем производные из параметров\n",
        "    # записывать историю вычислений уже не нужно (no_grad)\n",
        "    with torch.no_grad():\n",
        "        weight -= weight.grad * learning_rate\n",
        "        bias -= bias.grad * learning_rate\n",
        "        # обнуляем производные\n",
        "        weight.grad.zero_()\n",
        "        bias.grad.zero_()\n",
        "\n",
        "predictions = logistic_reg_model(x_tensor, weight,bias)\n",
        "print(roc_auc_score(y_tensor, predictions.detach().numpy()))"
      ],
      "metadata": {
        "colab": {
          "base_uri": "https://localhost:8080/"
        },
        "id": "55tfeiE0A2jW",
        "outputId": "eed1976f-7270-4089-e714-03611508251a"
      },
      "execution_count": 100,
      "outputs": [
        {
          "output_type": "stream",
          "name": "stdout",
          "text": [
            "0.9736577708006279\n"
          ]
        }
      ]
    },
    {
      "cell_type": "code",
      "source": [
        "class LogisticRegressionTorch(nn.Module):\n",
        "    def __init__(self, input_size, output_size):\n",
        "        super(LogisticRegressionTorch, self).__init__()\n",
        "        self.linear = nn.Linear(input_size, output_size)\n",
        "\n",
        "    def forward(self, X):\n",
        "        predictions = self.linear(X)\n",
        "        return torch.sigmoid(predictions)\n",
        "\n",
        "model3 = LogisticRegressionTorch(x_tensor.shape[1], y_tensor.shape[1])\n",
        "# определяем функцию потерь — бинарную кросс-энтропию\n",
        "criterion = nn.BCELoss()\n",
        "# определяем алгоритм оптимизации Adam\n",
        "optimizer = optim.Adam(model.parameters(), lr=learning_rate)\n",
        "for epoch in range(epochs):\n",
        "    optimizer.zero_grad()\n",
        "    predictions = model3(x_tensor)\n",
        "    loss = criterion(predictions, y_tensor)\n",
        "    # вычисляем градиенты\n",
        "    loss.backward()\n",
        "    # обновляем параметры\n",
        "    optimizer.step()\n",
        "\n",
        "predictions = model3(x_tensor)\n",
        "\n",
        "print(roc_auc_score(Y, predictions.detach().numpy()))"
      ],
      "metadata": {
        "colab": {
          "base_uri": "https://localhost:8080/"
        },
        "id": "ORaoUMbMTOvh",
        "outputId": "8fda5126-4ed6-474c-d072-b15bc56b35ba"
      },
      "execution_count": 101,
      "outputs": [
        {
          "output_type": "stream",
          "name": "stdout",
          "text": [
            "0.9580847723704866\n"
          ]
        }
      ]
    }
  ],
  "metadata": {
    "colab": {
      "provenance": [],
      "toc_visible": true
    },
    "kernelspec": {
      "display_name": "Python 3",
      "name": "python3"
    },
    "language_info": {
      "codemirror_mode": {
        "name": "ipython",
        "version": 3
      },
      "file_extension": ".py",
      "mimetype": "text/x-python",
      "name": "python",
      "nbconvert_exporter": "python",
      "pygments_lexer": "ipython3",
      "version": "3.9.4"
    }
  },
  "nbformat": 4,
  "nbformat_minor": 0
}