{
 "cells": [
  {
   "cell_type": "markdown",
   "id": "3523b4f2",
   "metadata": {},
   "source": [
    "# Валидация и тестирование моделей"
   ]
  },
  {
   "cell_type": "markdown",
   "id": "358799db",
   "metadata": {},
   "source": [
    "Полезные ссылки:\n",
    "- [Документация](https://scikit-learn.org/stable/modules/cross_validation.html) scikit-learn о стратегиях кроссвалидации\n",
    "    - Примечание: в документации есть небольшая путаница в терминах. Часто под \"test\" в коде понимается именно валидационная выборка. Мы будем называть \"тестовой\" именно ту выборку, на которой проводится **финальная** оценка избранных моделей, а разбиения в кроссвалидации будем называть **тренировочной** и **валидационной** выборками\n",
    "- Отличный [ноутбук](https://colab.research.google.com/drive/1gLvFrvAXblD4jmfHmIkkdd-balXqz0Go?usp=sharing) от Дмитрия Пензара по теме с отличными примерами"
   ]
  },
  {
   "cell_type": "markdown",
   "id": "fee138ae",
   "metadata": {},
   "source": [
    "# Задание 1. Правильное разбиение данных\n",
    "\n",
    "В этом задании не будет кода, но иногда самые важные вещи происходят без него, даже в машинном обучении. Подумайте и подробно опишите, какой способ валидации будет корректен в следующих случаях:\n",
    "\n",
    "1. Вы строите модель предсказания температуры в прошлом, используя данные, полученные из ледяных кернов.\n",
    "2. Ваша задача – разработать правила, по которым клиентам медицинской компании будет делаться заключение о том нормальные ли у них значения лабораторных анализов, превышают они норму или снижены. Компания работает в 3 регионах России, из которых вам предоставили данные по 10000, 3000 и 1000 пациентам.\n",
    "3. Косметологическая компания заказала у вас исследование зависимости качества кожи от рациона питания. Они предоставили вам данные по продуктам, потребляемым в течение недели, а также численную оценку качества кожи по 100-балльной шкале для 450 людей. 200 человек проживают в Москве, 150 – во Владивостоке, а 100 – в Якутске.\n",
    "4. Вы строите модель, предсказывающую возраст человека, по данным активности генов в клетках периферической крови 982 человек. Все доноры принадлежат к одной популяции и в момент проведения исследования не страдают острыми или хроническими заболеваниями в тяжёлых стадиях."
   ]
  },
  {
   "cell_type": "markdown",
   "id": "b4a4f98e-4fb5-4c24-a488-f11f18b0093a",
   "metadata": {},
   "source": [
    "В первом случае, валидация не требуется. Достаточно случайного разделения данных на тестовые и тренировочные, поскольку  оценки прогнозав будущем нет. Выявить закономерность изменения можно и по попученным данным.\n",
    "Во втором случает следует разбить данные, полученные из каждого региона и объединить их в один набор\n",
    "В третьем случае качество кожи вероятно будет зависеть не только от рациона, но и от других факторов, климат, например. Следовательно, целесообразно оценивать данные по каждому региону в отдельности.\n",
    "в четвертом случае оценку следует проводить, разбив предварительно данные по возрастным группам."
   ]
  },
  {
   "cell_type": "markdown",
   "id": "84e85f86",
   "metadata": {},
   "source": [
    "# Задание 2. Выбор модели на примере предсказания индекса счастья страны\n",
    "Скачайте датасет [World Happiness Report](https://www.kaggle.com/datasets/unsdsn/world-happiness) с платформы Kaggle. Эти данные содержат информацию о различных экономических и социальных метриках для стран мира. Будем работать с 2017 годом"
   ]
  },
  {
   "cell_type": "code",
   "execution_count": 32,
   "id": "761a08f8",
   "metadata": {},
   "outputs": [],
   "source": [
    "import matplotlib.pyplot as plt\n",
    "import pandas as pd\n",
    "import seaborn as sns\n",
    "from sklearn.model_selection import GroupKFold, KFold, StratifiedKFold, GridSearchCV, RandomizedSearchCV\n",
    "from sklearn.ensemble import RandomForestRegressor, RandomForestClassifier\n",
    "from sklearn.model_selection import train_test_split"
   ]
  },
  {
   "cell_type": "code",
   "execution_count": 2,
   "id": "8ca6f347",
   "metadata": {},
   "outputs": [
    {
     "data": {
      "text/html": [
       "<div>\n",
       "<style scoped>\n",
       "    .dataframe tbody tr th:only-of-type {\n",
       "        vertical-align: middle;\n",
       "    }\n",
       "\n",
       "    .dataframe tbody tr th {\n",
       "        vertical-align: top;\n",
       "    }\n",
       "\n",
       "    .dataframe thead th {\n",
       "        text-align: right;\n",
       "    }\n",
       "</style>\n",
       "<table border=\"1\" class=\"dataframe\">\n",
       "  <thead>\n",
       "    <tr style=\"text-align: right;\">\n",
       "      <th></th>\n",
       "      <th>Country</th>\n",
       "      <th>Happiness.Rank</th>\n",
       "      <th>Happiness.Score</th>\n",
       "      <th>Economy..GDP.per.Capita.</th>\n",
       "      <th>Family</th>\n",
       "      <th>Health..Life.Expectancy.</th>\n",
       "      <th>Freedom</th>\n",
       "      <th>Generosity</th>\n",
       "      <th>Trust..Government.Corruption.</th>\n",
       "      <th>Dystopia.Residual</th>\n",
       "    </tr>\n",
       "  </thead>\n",
       "  <tbody>\n",
       "    <tr>\n",
       "      <th>0</th>\n",
       "      <td>Norway</td>\n",
       "      <td>1</td>\n",
       "      <td>7.537</td>\n",
       "      <td>1.616463</td>\n",
       "      <td>1.533524</td>\n",
       "      <td>0.796667</td>\n",
       "      <td>0.635423</td>\n",
       "      <td>0.362012</td>\n",
       "      <td>0.315964</td>\n",
       "      <td>2.277027</td>\n",
       "    </tr>\n",
       "    <tr>\n",
       "      <th>1</th>\n",
       "      <td>Denmark</td>\n",
       "      <td>2</td>\n",
       "      <td>7.522</td>\n",
       "      <td>1.482383</td>\n",
       "      <td>1.551122</td>\n",
       "      <td>0.792566</td>\n",
       "      <td>0.626007</td>\n",
       "      <td>0.355280</td>\n",
       "      <td>0.400770</td>\n",
       "      <td>2.313707</td>\n",
       "    </tr>\n",
       "    <tr>\n",
       "      <th>2</th>\n",
       "      <td>Iceland</td>\n",
       "      <td>3</td>\n",
       "      <td>7.504</td>\n",
       "      <td>1.480633</td>\n",
       "      <td>1.610574</td>\n",
       "      <td>0.833552</td>\n",
       "      <td>0.627163</td>\n",
       "      <td>0.475540</td>\n",
       "      <td>0.153527</td>\n",
       "      <td>2.322715</td>\n",
       "    </tr>\n",
       "    <tr>\n",
       "      <th>3</th>\n",
       "      <td>Switzerland</td>\n",
       "      <td>4</td>\n",
       "      <td>7.494</td>\n",
       "      <td>1.564980</td>\n",
       "      <td>1.516912</td>\n",
       "      <td>0.858131</td>\n",
       "      <td>0.620071</td>\n",
       "      <td>0.290549</td>\n",
       "      <td>0.367007</td>\n",
       "      <td>2.276716</td>\n",
       "    </tr>\n",
       "    <tr>\n",
       "      <th>4</th>\n",
       "      <td>Finland</td>\n",
       "      <td>5</td>\n",
       "      <td>7.469</td>\n",
       "      <td>1.443572</td>\n",
       "      <td>1.540247</td>\n",
       "      <td>0.809158</td>\n",
       "      <td>0.617951</td>\n",
       "      <td>0.245483</td>\n",
       "      <td>0.382612</td>\n",
       "      <td>2.430182</td>\n",
       "    </tr>\n",
       "    <tr>\n",
       "      <th>...</th>\n",
       "      <td>...</td>\n",
       "      <td>...</td>\n",
       "      <td>...</td>\n",
       "      <td>...</td>\n",
       "      <td>...</td>\n",
       "      <td>...</td>\n",
       "      <td>...</td>\n",
       "      <td>...</td>\n",
       "      <td>...</td>\n",
       "      <td>...</td>\n",
       "    </tr>\n",
       "    <tr>\n",
       "      <th>150</th>\n",
       "      <td>Rwanda</td>\n",
       "      <td>151</td>\n",
       "      <td>3.471</td>\n",
       "      <td>0.368746</td>\n",
       "      <td>0.945707</td>\n",
       "      <td>0.326425</td>\n",
       "      <td>0.581844</td>\n",
       "      <td>0.252756</td>\n",
       "      <td>0.455220</td>\n",
       "      <td>0.540061</td>\n",
       "    </tr>\n",
       "    <tr>\n",
       "      <th>151</th>\n",
       "      <td>Syria</td>\n",
       "      <td>152</td>\n",
       "      <td>3.462</td>\n",
       "      <td>0.777153</td>\n",
       "      <td>0.396103</td>\n",
       "      <td>0.500533</td>\n",
       "      <td>0.081539</td>\n",
       "      <td>0.493664</td>\n",
       "      <td>0.151347</td>\n",
       "      <td>1.061574</td>\n",
       "    </tr>\n",
       "    <tr>\n",
       "      <th>152</th>\n",
       "      <td>Tanzania</td>\n",
       "      <td>153</td>\n",
       "      <td>3.349</td>\n",
       "      <td>0.511136</td>\n",
       "      <td>1.041990</td>\n",
       "      <td>0.364509</td>\n",
       "      <td>0.390018</td>\n",
       "      <td>0.354256</td>\n",
       "      <td>0.066035</td>\n",
       "      <td>0.621130</td>\n",
       "    </tr>\n",
       "    <tr>\n",
       "      <th>153</th>\n",
       "      <td>Burundi</td>\n",
       "      <td>154</td>\n",
       "      <td>2.905</td>\n",
       "      <td>0.091623</td>\n",
       "      <td>0.629794</td>\n",
       "      <td>0.151611</td>\n",
       "      <td>0.059901</td>\n",
       "      <td>0.204435</td>\n",
       "      <td>0.084148</td>\n",
       "      <td>1.683024</td>\n",
       "    </tr>\n",
       "    <tr>\n",
       "      <th>154</th>\n",
       "      <td>Central African Republic</td>\n",
       "      <td>155</td>\n",
       "      <td>2.693</td>\n",
       "      <td>0.000000</td>\n",
       "      <td>0.000000</td>\n",
       "      <td>0.018773</td>\n",
       "      <td>0.270842</td>\n",
       "      <td>0.280876</td>\n",
       "      <td>0.056565</td>\n",
       "      <td>2.066005</td>\n",
       "    </tr>\n",
       "  </tbody>\n",
       "</table>\n",
       "<p>155 rows × 10 columns</p>\n",
       "</div>"
      ],
      "text/plain": [
       "                      Country  Happiness.Rank  Happiness.Score  \\\n",
       "0                      Norway               1            7.537   \n",
       "1                     Denmark               2            7.522   \n",
       "2                     Iceland               3            7.504   \n",
       "3                 Switzerland               4            7.494   \n",
       "4                     Finland               5            7.469   \n",
       "..                        ...             ...              ...   \n",
       "150                    Rwanda             151            3.471   \n",
       "151                     Syria             152            3.462   \n",
       "152                  Tanzania             153            3.349   \n",
       "153                   Burundi             154            2.905   \n",
       "154  Central African Republic             155            2.693   \n",
       "\n",
       "     Economy..GDP.per.Capita.    Family  Health..Life.Expectancy.   Freedom  \\\n",
       "0                    1.616463  1.533524                  0.796667  0.635423   \n",
       "1                    1.482383  1.551122                  0.792566  0.626007   \n",
       "2                    1.480633  1.610574                  0.833552  0.627163   \n",
       "3                    1.564980  1.516912                  0.858131  0.620071   \n",
       "4                    1.443572  1.540247                  0.809158  0.617951   \n",
       "..                        ...       ...                       ...       ...   \n",
       "150                  0.368746  0.945707                  0.326425  0.581844   \n",
       "151                  0.777153  0.396103                  0.500533  0.081539   \n",
       "152                  0.511136  1.041990                  0.364509  0.390018   \n",
       "153                  0.091623  0.629794                  0.151611  0.059901   \n",
       "154                  0.000000  0.000000                  0.018773  0.270842   \n",
       "\n",
       "     Generosity  Trust..Government.Corruption.  Dystopia.Residual  \n",
       "0      0.362012                       0.315964           2.277027  \n",
       "1      0.355280                       0.400770           2.313707  \n",
       "2      0.475540                       0.153527           2.322715  \n",
       "3      0.290549                       0.367007           2.276716  \n",
       "4      0.245483                       0.382612           2.430182  \n",
       "..          ...                            ...                ...  \n",
       "150    0.252756                       0.455220           0.540061  \n",
       "151    0.493664                       0.151347           1.061574  \n",
       "152    0.354256                       0.066035           0.621130  \n",
       "153    0.204435                       0.084148           1.683024  \n",
       "154    0.280876                       0.056565           2.066005  \n",
       "\n",
       "[155 rows x 10 columns]"
      ]
     },
     "execution_count": 2,
     "metadata": {},
     "output_type": "execute_result"
    }
   ],
   "source": [
    "df = pd.read_csv(\"data/happiness/2017.csv\")\n",
    "df.drop([\"Whisker.high\", \"Whisker.low\"], axis=\"columns\", inplace=True)\n",
    "df"
   ]
  },
  {
   "cell_type": "markdown",
   "id": "dfc44212",
   "metadata": {},
   "source": [
    "Разобьём страны по континентам. Если вы считаете более осмысленным другое разбиение, смело применяйте его :)"
   ]
  },
  {
   "cell_type": "code",
   "execution_count": 3,
   "id": "a57bb147",
   "metadata": {},
   "outputs": [],
   "source": [
    "asian_countries = [\"Israel\", \"United Arab Emirates\", \"Singapore\", \"Thailand\", \"Taiwan Province of China\",\n",
    "                   \"Qatar\", \"Saudi Arabia\", \"Kuwait\", \"Bahrain\", \"Malaysia\", \"Uzbekistan\", \"Japan\",\n",
    "                   \"South Korea\", \"Turkmenistan\", \"Kazakhstan\", \"Turkey\", \"Hong Kong S.A.R., China\", \"Philippines\",\n",
    "                   \"Jordan\", \"China\", \"Pakistan\", \"Indonesia\", \"Azerbaijan\", \"Lebanon\", \"Vietnam\",\n",
    "                   \"Tajikistan\", \"Bhutan\", \"Kyrgyzstan\", \"Nepal\", \"Mongolia\", \"Palestinian Territories\",\n",
    "                   \"Iran\", \"Bangladesh\", \"Myanmar\", \"Iraq\", \"Sri Lanka\", \"Armenia\", \"India\", \"Georgia\",\n",
    "                   \"Cambodia\", \"Afghanistan\", \"Yemen\", \"Syria\"]\n",
    "european_countries = [\"Norway\", \"Denmark\", \"Iceland\", \"Switzerland\", \"Finland\",\n",
    "                      \"Netherlands\", \"Sweden\", \"Austria\", \"Ireland\", \"Germany\",\n",
    "                      \"Belgium\", \"Luxembourg\", \"United Kingdom\", \"Czech Republic\",\n",
    "                      \"Malta\", \"France\", \"Spain\", \"Slovakia\", \"Poland\", \"Italy\",\n",
    "                      \"Russia\", \"Lithuania\", \"Latvia\", \"Moldova\", \"Romania\",\n",
    "                      \"Slovenia\", \"North Cyprus\", \"Cyprus\", \"Estonia\", \"Belarus\",\n",
    "                      \"Serbia\", \"Hungary\", \"Croatia\", \"Kosovo\", \"Montenegro\",\n",
    "                      \"Greece\", \"Portugal\", \"Bosnia and Herzegovina\", \"Macedonia\",\n",
    "                      \"Bulgaria\", \"Albania\", \"Ukraine\"]\n",
    "north_american_countries = [\"Canada\", \"Costa Rica\", \"United States\", \"Mexico\",\n",
    "                            \"Panama\", \"Trinidad and Tobago\", \"El Salvador\", \"Belize\", \"Guatemala\",\n",
    "                            \"Jamaica\", \"Nicaragua\", \"Dominican Republic\", \"Honduras\",\n",
    "                            \"Haiti\"]\n",
    "south_american_countries = [\"Chile\", \"Brazil\", \"Argentina\", \"Uruguay\",\n",
    "                            \"Colombia\", \"Ecuador\", \"Bolivia\", \"Peru\",\n",
    "                            \"Paraguay\", \"Venezuela\"]\n",
    "australian_countries = [\"New Zealand\", \"Australia\"]\n",
    "\n",
    "# Assigning continents based on the country\n",
    "df[\"Continent\"] = \"Africa\"\n",
    "df.loc[df[\"Country\"].isin(asian_countries), \"Continent\"] = \"Asia\"\n",
    "df.loc[df[\"Country\"].isin(european_countries), \"Continent\"] = \"Europe\"\n",
    "df.loc[df[\"Country\"].isin(north_american_countries), \"Continent\"] = \"North America\"\n",
    "df.loc[df[\"Country\"].isin(south_american_countries), \"Continent\"] = \"South America\"\n",
    "df.loc[df[\"Country\"].isin(australian_countries), \"Continent\"] = \"Australia\""
   ]
  },
  {
   "cell_type": "code",
   "execution_count": 4,
   "id": "36d86138",
   "metadata": {},
   "outputs": [
    {
     "data": {
      "text/html": [
       "<div>\n",
       "<style scoped>\n",
       "    .dataframe tbody tr th:only-of-type {\n",
       "        vertical-align: middle;\n",
       "    }\n",
       "\n",
       "    .dataframe tbody tr th {\n",
       "        vertical-align: top;\n",
       "    }\n",
       "\n",
       "    .dataframe thead th {\n",
       "        text-align: right;\n",
       "    }\n",
       "</style>\n",
       "<table border=\"1\" class=\"dataframe\">\n",
       "  <thead>\n",
       "    <tr style=\"text-align: right;\">\n",
       "      <th></th>\n",
       "      <th>Country</th>\n",
       "      <th>Happiness.Rank</th>\n",
       "      <th>Happiness.Score</th>\n",
       "      <th>Economy..GDP.per.Capita.</th>\n",
       "      <th>Family</th>\n",
       "      <th>Health..Life.Expectancy.</th>\n",
       "      <th>Freedom</th>\n",
       "      <th>Generosity</th>\n",
       "      <th>Trust..Government.Corruption.</th>\n",
       "      <th>Dystopia.Residual</th>\n",
       "      <th>Continent</th>\n",
       "    </tr>\n",
       "  </thead>\n",
       "  <tbody>\n",
       "    <tr>\n",
       "      <th>0</th>\n",
       "      <td>Norway</td>\n",
       "      <td>1</td>\n",
       "      <td>7.537</td>\n",
       "      <td>1.616463</td>\n",
       "      <td>1.533524</td>\n",
       "      <td>0.796667</td>\n",
       "      <td>0.635423</td>\n",
       "      <td>0.362012</td>\n",
       "      <td>0.315964</td>\n",
       "      <td>2.277027</td>\n",
       "      <td>Europe</td>\n",
       "    </tr>\n",
       "    <tr>\n",
       "      <th>1</th>\n",
       "      <td>Denmark</td>\n",
       "      <td>2</td>\n",
       "      <td>7.522</td>\n",
       "      <td>1.482383</td>\n",
       "      <td>1.551122</td>\n",
       "      <td>0.792566</td>\n",
       "      <td>0.626007</td>\n",
       "      <td>0.355280</td>\n",
       "      <td>0.400770</td>\n",
       "      <td>2.313707</td>\n",
       "      <td>Europe</td>\n",
       "    </tr>\n",
       "    <tr>\n",
       "      <th>2</th>\n",
       "      <td>Iceland</td>\n",
       "      <td>3</td>\n",
       "      <td>7.504</td>\n",
       "      <td>1.480633</td>\n",
       "      <td>1.610574</td>\n",
       "      <td>0.833552</td>\n",
       "      <td>0.627163</td>\n",
       "      <td>0.475540</td>\n",
       "      <td>0.153527</td>\n",
       "      <td>2.322715</td>\n",
       "      <td>Europe</td>\n",
       "    </tr>\n",
       "    <tr>\n",
       "      <th>3</th>\n",
       "      <td>Switzerland</td>\n",
       "      <td>4</td>\n",
       "      <td>7.494</td>\n",
       "      <td>1.564980</td>\n",
       "      <td>1.516912</td>\n",
       "      <td>0.858131</td>\n",
       "      <td>0.620071</td>\n",
       "      <td>0.290549</td>\n",
       "      <td>0.367007</td>\n",
       "      <td>2.276716</td>\n",
       "      <td>Europe</td>\n",
       "    </tr>\n",
       "    <tr>\n",
       "      <th>4</th>\n",
       "      <td>Finland</td>\n",
       "      <td>5</td>\n",
       "      <td>7.469</td>\n",
       "      <td>1.443572</td>\n",
       "      <td>1.540247</td>\n",
       "      <td>0.809158</td>\n",
       "      <td>0.617951</td>\n",
       "      <td>0.245483</td>\n",
       "      <td>0.382612</td>\n",
       "      <td>2.430182</td>\n",
       "      <td>Europe</td>\n",
       "    </tr>\n",
       "    <tr>\n",
       "      <th>...</th>\n",
       "      <td>...</td>\n",
       "      <td>...</td>\n",
       "      <td>...</td>\n",
       "      <td>...</td>\n",
       "      <td>...</td>\n",
       "      <td>...</td>\n",
       "      <td>...</td>\n",
       "      <td>...</td>\n",
       "      <td>...</td>\n",
       "      <td>...</td>\n",
       "      <td>...</td>\n",
       "    </tr>\n",
       "    <tr>\n",
       "      <th>150</th>\n",
       "      <td>Rwanda</td>\n",
       "      <td>151</td>\n",
       "      <td>3.471</td>\n",
       "      <td>0.368746</td>\n",
       "      <td>0.945707</td>\n",
       "      <td>0.326425</td>\n",
       "      <td>0.581844</td>\n",
       "      <td>0.252756</td>\n",
       "      <td>0.455220</td>\n",
       "      <td>0.540061</td>\n",
       "      <td>Africa</td>\n",
       "    </tr>\n",
       "    <tr>\n",
       "      <th>151</th>\n",
       "      <td>Syria</td>\n",
       "      <td>152</td>\n",
       "      <td>3.462</td>\n",
       "      <td>0.777153</td>\n",
       "      <td>0.396103</td>\n",
       "      <td>0.500533</td>\n",
       "      <td>0.081539</td>\n",
       "      <td>0.493664</td>\n",
       "      <td>0.151347</td>\n",
       "      <td>1.061574</td>\n",
       "      <td>Asia</td>\n",
       "    </tr>\n",
       "    <tr>\n",
       "      <th>152</th>\n",
       "      <td>Tanzania</td>\n",
       "      <td>153</td>\n",
       "      <td>3.349</td>\n",
       "      <td>0.511136</td>\n",
       "      <td>1.041990</td>\n",
       "      <td>0.364509</td>\n",
       "      <td>0.390018</td>\n",
       "      <td>0.354256</td>\n",
       "      <td>0.066035</td>\n",
       "      <td>0.621130</td>\n",
       "      <td>Africa</td>\n",
       "    </tr>\n",
       "    <tr>\n",
       "      <th>153</th>\n",
       "      <td>Burundi</td>\n",
       "      <td>154</td>\n",
       "      <td>2.905</td>\n",
       "      <td>0.091623</td>\n",
       "      <td>0.629794</td>\n",
       "      <td>0.151611</td>\n",
       "      <td>0.059901</td>\n",
       "      <td>0.204435</td>\n",
       "      <td>0.084148</td>\n",
       "      <td>1.683024</td>\n",
       "      <td>Africa</td>\n",
       "    </tr>\n",
       "    <tr>\n",
       "      <th>154</th>\n",
       "      <td>Central African Republic</td>\n",
       "      <td>155</td>\n",
       "      <td>2.693</td>\n",
       "      <td>0.000000</td>\n",
       "      <td>0.000000</td>\n",
       "      <td>0.018773</td>\n",
       "      <td>0.270842</td>\n",
       "      <td>0.280876</td>\n",
       "      <td>0.056565</td>\n",
       "      <td>2.066005</td>\n",
       "      <td>Africa</td>\n",
       "    </tr>\n",
       "  </tbody>\n",
       "</table>\n",
       "<p>155 rows × 11 columns</p>\n",
       "</div>"
      ],
      "text/plain": [
       "                      Country  Happiness.Rank  Happiness.Score  \\\n",
       "0                      Norway               1            7.537   \n",
       "1                     Denmark               2            7.522   \n",
       "2                     Iceland               3            7.504   \n",
       "3                 Switzerland               4            7.494   \n",
       "4                     Finland               5            7.469   \n",
       "..                        ...             ...              ...   \n",
       "150                    Rwanda             151            3.471   \n",
       "151                     Syria             152            3.462   \n",
       "152                  Tanzania             153            3.349   \n",
       "153                   Burundi             154            2.905   \n",
       "154  Central African Republic             155            2.693   \n",
       "\n",
       "     Economy..GDP.per.Capita.    Family  Health..Life.Expectancy.   Freedom  \\\n",
       "0                    1.616463  1.533524                  0.796667  0.635423   \n",
       "1                    1.482383  1.551122                  0.792566  0.626007   \n",
       "2                    1.480633  1.610574                  0.833552  0.627163   \n",
       "3                    1.564980  1.516912                  0.858131  0.620071   \n",
       "4                    1.443572  1.540247                  0.809158  0.617951   \n",
       "..                        ...       ...                       ...       ...   \n",
       "150                  0.368746  0.945707                  0.326425  0.581844   \n",
       "151                  0.777153  0.396103                  0.500533  0.081539   \n",
       "152                  0.511136  1.041990                  0.364509  0.390018   \n",
       "153                  0.091623  0.629794                  0.151611  0.059901   \n",
       "154                  0.000000  0.000000                  0.018773  0.270842   \n",
       "\n",
       "     Generosity  Trust..Government.Corruption.  Dystopia.Residual Continent  \n",
       "0      0.362012                       0.315964           2.277027    Europe  \n",
       "1      0.355280                       0.400770           2.313707    Europe  \n",
       "2      0.475540                       0.153527           2.322715    Europe  \n",
       "3      0.290549                       0.367007           2.276716    Europe  \n",
       "4      0.245483                       0.382612           2.430182    Europe  \n",
       "..          ...                            ...                ...       ...  \n",
       "150    0.252756                       0.455220           0.540061    Africa  \n",
       "151    0.493664                       0.151347           1.061574      Asia  \n",
       "152    0.354256                       0.066035           0.621130    Africa  \n",
       "153    0.204435                       0.084148           1.683024    Africa  \n",
       "154    0.280876                       0.056565           2.066005    Africa  \n",
       "\n",
       "[155 rows x 11 columns]"
      ]
     },
     "execution_count": 4,
     "metadata": {},
     "output_type": "execute_result"
    }
   ],
   "source": [
    "df"
   ]
  },
  {
   "cell_type": "markdown",
   "id": "cf7baf60",
   "metadata": {},
   "source": [
    "Заметим, что уровень счастья сильно варьируется по регионам:"
   ]
  },
  {
   "cell_type": "code",
   "execution_count": 5,
   "id": "caec524d",
   "metadata": {},
   "outputs": [
    {
     "name": "stderr",
     "output_type": "stream",
     "text": [
      "/home/sergei/miniconda3/envs/blast_env/lib/python3.12/site-packages/seaborn/_oldcore.py:1119: FutureWarning: use_inf_as_na option is deprecated and will be removed in a future version. Convert inf values to NaN before operating instead.\n",
      "  with pd.option_context('mode.use_inf_as_na', True):\n",
      "/home/sergei/miniconda3/envs/blast_env/lib/python3.12/site-packages/seaborn/_oldcore.py:1119: FutureWarning: use_inf_as_na option is deprecated and will be removed in a future version. Convert inf values to NaN before operating instead.\n",
      "  with pd.option_context('mode.use_inf_as_na', True):\n"
     ]
    },
    {
     "data": {
      "text/plain": [
       "<Axes: xlabel='Continent', ylabel='Happiness.Score'>"
      ]
     },
     "execution_count": 5,
     "metadata": {},
     "output_type": "execute_result"
    },
    {
     "data": {
      "image/png": "[encoded data removed]",
      "text/plain": [
       "<Figure size 800x500 with 1 Axes>"
      ]
     },
     "metadata": {},
     "output_type": "display_data"
    }
   ],
   "source": [
    "plt.figure(figsize=(8, 5))\n",
    "sns.boxplot(data=df, x=\"Continent\", y=\"Happiness.Score\")\n",
    "sns.swarmplot(data=df, x=\"Continent\", y=\"Happiness.Score\", color=\"black\")"
   ]
  },
  {
   "cell_type": "markdown",
   "id": "8deeda61",
   "metadata": {},
   "source": [
    "**Создайте как можно лучшую модель предсказания индекса счастья по остальным числовым признакам**. \n",
    "- Подберите оптимальные гиперпараметры модели при помощи случайного поиска и поиском по сетке\n",
    "- Сравните, отличаются ли оптимальные значения гиперпараметров, и в каком случае качество модели на валидации получается лучше\n",
    "- Выбор валидации и модели остаётся за вами :) Ниже пример со случайной валидацией на 5 фолдов и случайным лесом\n",
    "- \\* Бонусное задание: примените [Optuna](https://github.com/optuna/optuna) для поиска гиперпараметров или подбора модели"
   ]
  },
  {
   "cell_type": "code",
   "execution_count": 6,
   "id": "66475353",
   "metadata": {},
   "outputs": [],
   "source": [
    "X = df[df.columns[3: -1]]\n",
    "y = df[\"Happiness.Score\"]"
   ]
  },
  {
   "cell_type": "code",
   "execution_count": 7,
   "id": "65fb4394",
   "metadata": {},
   "outputs": [
    {
     "name": "stdout",
     "output_type": "stream",
     "text": [
      "KFold CV - Best parameters: {'max_depth': 10, 'n_estimators': 100}\n",
      "KFold CV - Best score: -0.11518569483118464\n"
     ]
    }
   ],
   "source": [
    "forest = RandomForestRegressor()\n",
    "\n",
    "# Зададим возможные значения гиперпараметров. Вы вольны добавлять другие гиперпараметры и менять значения!\n",
    "param_grid = {\n",
    "    \"n_estimators\": [10, 30, 100],\n",
    "    \"max_depth\": [1, 10, 30],\n",
    "}\n",
    "\n",
    "cv_kfold = KFold(n_splits=5, shuffle=True, random_state=42)\n",
    "\n",
    "# Выполним поиск по сетке GridSearchCV with KFold\n",
    "grid_search_kfold = GridSearchCV(\n",
    "    estimator=forest, param_grid=param_grid, cv=cv_kfold, scoring='neg_mean_squared_error')\n",
    "\n",
    "grid_search_kfold.fit(X, y)\n",
    "print(\"KFold CV - Best parameters:\", grid_search_kfold.best_params_)\n",
    "print(\"KFold CV - Best score:\", grid_search_kfold.best_score_)"
   ]
  },
  {
   "cell_type": "markdown",
   "id": "6b4d5c85",
   "metadata": {},
   "source": [
    "Если интересно посмотреть на все запуски:"
   ]
  },
  {
   "cell_type": "code",
   "execution_count": 8,
   "id": "05ad57b9",
   "metadata": {},
   "outputs": [
    {
     "name": "stdout",
     "output_type": "stream",
     "text": [
      "KFold CV Results:\n",
      "Rank: 9, Params: {'max_depth': 1, 'n_estimators': 10}, Mean Score: -0.5335868794833386, Std Dev: 0.0589909119313405\n",
      "Rank: 8, Params: {'max_depth': 1, 'n_estimators': 30}, Mean Score: -0.5156893841200987, Std Dev: 0.0462086311175398\n",
      "Rank: 7, Params: {'max_depth': 1, 'n_estimators': 100}, Mean Score: -0.4956397828035114, Std Dev: 0.042320386136440895\n",
      "Rank: 6, Params: {'max_depth': 10, 'n_estimators': 10}, Mean Score: -0.13435275146693093, Std Dev: 0.030642604235294777\n",
      "Rank: 2, Params: {'max_depth': 10, 'n_estimators': 30}, Mean Score: -0.11761745270825977, Std Dev: 0.03309279450994853\n",
      "Rank: 1, Params: {'max_depth': 10, 'n_estimators': 100}, Mean Score: -0.11518569483118464, Std Dev: 0.02605871303906326\n",
      "Rank: 5, Params: {'max_depth': 30, 'n_estimators': 10}, Mean Score: -0.13139238146504134, Std Dev: 0.034903998017797\n",
      "Rank: 4, Params: {'max_depth': 30, 'n_estimators': 30}, Mean Score: -0.1285068605531991, Std Dev: 0.02555710792049511\n",
      "Rank: 3, Params: {'max_depth': 30, 'n_estimators': 100}, Mean Score: -0.11901493004739336, Std Dev: 0.025553177308903736\n"
     ]
    }
   ],
   "source": [
    "# For KFold CV results\n",
    "kfold_results = grid_search_kfold.cv_results_\n",
    "print(\"KFold CV Results:\")\n",
    "for i in range(len(kfold_results['rank_test_score'])):\n",
    "    print(f\"Rank: {kfold_results['rank_test_score'][i]}, \"\n",
    "          f\"Params: {kfold_results['params'][i]}, \"\n",
    "          f\"Mean Score: {kfold_results['mean_test_score'][i]}, \"\n",
    "          f\"Std Dev: {kfold_results['std_test_score'][i]}\")"
   ]
  },
  {
   "cell_type": "markdown",
   "id": "e336a233",
   "metadata": {},
   "source": [
    "Заметьте, что поиск по сетке старается *максимизировать* метрику. Поэтому чтобы выбрать модель с *наименьшей* ошибкой метрика домножается на -1. Тогда чем больше мы получаем число, тем меньше ошибка и лучше модель"
   ]
  },
  {
   "cell_type": "markdown",
   "id": "5f66f572",
   "metadata": {},
   "source": [
    "Ради интереса, давайте посмотрим, что наша модель считает важным для счастья:"
   ]
  },
  {
   "cell_type": "code",
   "execution_count": 9,
   "id": "881dadcd",
   "metadata": {},
   "outputs": [
    {
     "data": {
      "text/plain": [
       "<Axes: >"
      ]
     },
     "execution_count": 9,
     "metadata": {},
     "output_type": "execute_result"
    },
    {
     "data": {
      "image/png": "[encoded data removed]",
      "text/plain": [
       "<Figure size 640x480 with 1 Axes>"
      ]
     },
     "metadata": {},
     "output_type": "display_data"
    }
   ],
   "source": [
    "sns.barplot(\n",
    "    x=grid_search_kfold.best_estimator_.feature_importances_,\n",
    "    y=grid_search_kfold.best_estimator_.feature_names_in_,\n",
    "    orient=\"h\"\n",
    ")"
   ]
  },
  {
   "cell_type": "markdown",
   "id": "59443d7e",
   "metadata": {},
   "source": [
    "Как вы считаете, можем ли мы доверять этой модели? Как можно это проверить?"
   ]
  },
  {
   "cell_type": "markdown",
   "id": "72184489-35d8-4e2c-a876-542a11737b93",
   "metadata": {},
   "source": [
    "Вопрос с подвохом? Наверное, нет :) Полагаю, нужно было сначала данные разделить на тестовые и тренировочные. \n",
    "Проверить можно, используя другой метод подбора гиперпараметров"
   ]
  },
  {
   "cell_type": "code",
   "execution_count": null,
   "id": "b19aad51-32d1-40ea-a25f-bed1a50aa348",
   "metadata": {},
   "outputs": [],
   "source": []
  },
  {
   "cell_type": "code",
   "execution_count": 23,
   "id": "7b02c036-a1e5-4e65-9d88-052975e4bf64",
   "metadata": {},
   "outputs": [
    {
     "name": "stderr",
     "output_type": "stream",
     "text": [
      "/home/sergei/miniconda3/envs/blast_env/lib/python3.12/site-packages/seaborn/_oldcore.py:1119: FutureWarning: use_inf_as_na option is deprecated and will be removed in a future version. Convert inf values to NaN before operating instead.\n",
      "  with pd.option_context('mode.use_inf_as_na', True):\n",
      "/home/sergei/miniconda3/envs/blast_env/lib/python3.12/site-packages/seaborn/_oldcore.py:1119: FutureWarning: use_inf_as_na option is deprecated and will be removed in a future version. Convert inf values to NaN before operating instead.\n",
      "  with pd.option_context('mode.use_inf_as_na', True):\n"
     ]
    },
    {
     "data": {
      "image/png": "[encoded data removed]",
      "text/plain": [
       "<Figure size 800x500 with 1 Axes>"
      ]
     },
     "metadata": {},
     "output_type": "display_data"
    }
   ],
   "source": [
    "plt.figure(figsize=(8, 5))\n",
    "sns.boxplot(data=df, x=\"Continent\", y=\"Health..Life.Expectancy.\")\n",
    "sns.swarmplot(data=df, x=\"Continent\", y=\"Health..Life.Expectancy.\", color=\"black\")\n",
    "x_data = df[df.columns[2: -1]]\n",
    "X = x_data.drop(\"Health..Life.Expectancy.\", axis= 1)\n",
    "y = df[\"Health..Life.Expectancy.\"]\n",
    "y.isnull().values.any()\n",
    "x_train, x_test, y_train, y_test = train_test_split(X, y, test_size=0.2, random_state = 0) "
   ]
  },
  {
   "cell_type": "code",
   "execution_count": 24,
   "id": "18e02018-d81d-45e0-b611-5861ad847dd7",
   "metadata": {},
   "outputs": [
    {
     "name": "stdout",
     "output_type": "stream",
     "text": [
      "KFold CV - Best parameters: {'max_depth': 30, 'max_features': 5, 'min_samples_leaf': 2, 'min_samples_split': 2, 'n_estimators': 100}\n",
      "KFold CV - Best score: -0.015223391916654094\n"
     ]
    },
    {
     "data": {
      "text/plain": [
       "<Axes: >"
      ]
     },
     "execution_count": 24,
     "metadata": {},
     "output_type": "execute_result"
    },
    {
     "data": {
      "image/png": "[encoded data removed]",
      "text/plain": [
       "<Figure size 640x480 with 1 Axes>"
      ]
     },
     "metadata": {},
     "output_type": "display_data"
    }
   ],
   "source": [
    "forest = RandomForestRegressor()\n",
    "\n",
    "# Зададим возможные значения гиперпараметров. Вы вольны добавлять другие гиперпараметры и менять значения!\n",
    "param_grid = {\n",
    "    \"n_estimators\": [10, 30, 100],\n",
    "    \"max_depth\": [1, 10, 30],\n",
    "    'max_features':[1,3,5,7],\n",
    "    'min_samples_leaf':[1,2,3],\n",
    "    'min_samples_split':[2,3]\n",
    "}\n",
    "\n",
    "cv_kfold = KFold(n_splits=5, shuffle=True, random_state=42)\n",
    "\n",
    "# Выполним поиск по сетке GridSearchCV with KFold\n",
    "grid_search_kfold = GridSearchCV(\n",
    "    estimator=forest, param_grid=param_grid, cv=cv_kfold, scoring='neg_mean_squared_error')\n",
    "\n",
    "grid_search_kfold.fit(x_train, y_train)\n",
    "print(\"KFold CV - Best parameters:\", grid_search_kfold.best_params_)\n",
    "print(\"KFold CV - Best score:\", grid_search_kfold.best_score_)\n",
    "sns.barplot(\n",
    "    x=grid_search_kfold.best_estimator_.feature_importances_,\n",
    "    y=grid_search_kfold.best_estimator_.feature_names_in_,\n",
    "    orient=\"h\"\n",
    ")"
   ]
  },
  {
   "cell_type": "code",
   "execution_count": 39,
   "id": "fcfc356e-81de-46a0-b98e-295afaff96ac",
   "metadata": {},
   "outputs": [
    {
     "name": "stdout",
     "output_type": "stream",
     "text": [
      "Best random search hyperparameters are: {'n_estimators': 50, 'min_samples_split': 5, 'min_samples_leaf': 1, 'max_depth': 20}\n",
      "Best random search score is: 0.7063497452252203\n"
     ]
    }
   ],
   "source": [
    "param_dist = {\n",
    "    'n_estimators': [50, 100, 150],\n",
    "    'max_depth': [None, 10, 20, 30],\n",
    "    'min_samples_split': [2, 5, 10],\n",
    "    'min_samples_leaf': [1, 2, 4],\n",
    "}\n",
    "rf_model = RandomForestRegressor()\n",
    "random_search = RandomizedSearchCV(rf_model, param_distributions=param_dist, n_iter=100)\n",
    "\n",
    "random_search.fit(x_train, y_train)\n",
    "\n",
    "best_params = random_search.best_params_\n",
    "best_score = random_search.best_score_\n",
    "\n",
    "# random random search results\n",
    "print('Best random search hyperparameters are: '+str(best_params))\n",
    "print('Best random search score is: '+str(best_score))"
   ]
  },
  {
   "cell_type": "code",
   "execution_count": 40,
   "id": "9b61bc65-1f07-4bb7-8ceb-313c5aecb3e6",
   "metadata": {},
   "outputs": [
    {
     "data": {
      "text/plain": [
       "<Axes: >"
      ]
     },
     "execution_count": 40,
     "metadata": {},
     "output_type": "execute_result"
    },
    {
     "data": {
      "image/png": "[encoded data removed]",
      "text/plain": [
       "<Figure size 640x480 with 1 Axes>"
      ]
     },
     "metadata": {},
     "output_type": "display_data"
    }
   ],
   "source": [
    "sns.barplot(\n",
    "    x=random_search.best_estimator_.feature_importances_,\n",
    "    y=random_search.best_estimator_.feature_names_in_,\n",
    "    orient=\"h\"\n",
    ")"
   ]
  },
  {
   "cell_type": "code",
   "execution_count": null,
   "id": "6cf43fc7-4f2a-422e-98bd-11a1695e8ecd",
   "metadata": {},
   "outputs": [],
   "source": []
  }
 ],
 "metadata": {
  "kernelspec": {
   "display_name": "Python (blast_env)",
   "language": "python",
   "name": "blast_env"
  },
  "language_info": {
   "codemirror_mode": {
    "name": "ipython",
    "version": 3
   },
   "file_extension": ".py",
   "mimetype": "text/x-python",
   "name": "python",
   "nbconvert_exporter": "python",
   "pygments_lexer": "ipython3",
   "version": "3.12.1"
  }
 },
 "nbformat": 4,
 "nbformat_minor": 5
}
