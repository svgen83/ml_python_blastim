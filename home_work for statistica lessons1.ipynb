{
 "cells": [
  {
   "cell_type": "markdown",
   "metadata": {
    "colab_type": "text",
    "id": "view-in-github"
   },
   "source": [
    "<a href=\"https://colab.research.google.com/github/danon6868/blastim-ml/blob/main/statistics_day_9/class_work.ipynb\" target=\"_parent\"><img src=\"https://colab.research.google.com/assets/colab-badge.svg\" alt=\"Open In Colab\"/></a>"
   ]
  },
  {
   "cell_type": "code",
   "execution_count": 1,
   "metadata": {
    "id": "OLE-TC4eN1HP"
   },
   "outputs": [],
   "source": [
    "# Pandas понадобится нам для чтения денных\n",
    "import pandas as pd\n",
    "import seaborn as sns\n",
    "import matplotlib.pyplot as plt\n",
    "import numpy as np"
   ]
  },
  {
   "cell_type": "markdown",
   "metadata": {
    "id": "5ZhHIvXvK_jh"
   },
   "source": [
    "Данные можно скачать по [ссылке](https://drive.google.com/file/d/1j-NEMWgFI4zh9ebVi6r657CjbrPA6gk7/view?usp=drive_link)."
   ]
  },
  {
   "cell_type": "code",
   "execution_count": 2,
   "metadata": {
    "id": "OQxt1TdvN_mT"
   },
   "outputs": [
    {
     "data": {
      "text/html": [
       "<div>\n",
       "<style scoped>\n",
       "    .dataframe tbody tr th:only-of-type {\n",
       "        vertical-align: middle;\n",
       "    }\n",
       "\n",
       "    .dataframe tbody tr th {\n",
       "        vertical-align: top;\n",
       "    }\n",
       "\n",
       "    .dataframe thead th {\n",
       "        text-align: right;\n",
       "    }\n",
       "</style>\n",
       "<table border=\"1\" class=\"dataframe\">\n",
       "  <thead>\n",
       "    <tr style=\"text-align: right;\">\n",
       "      <th></th>\n",
       "      <th>TMCC1</th>\n",
       "      <th>RANBP3</th>\n",
       "      <th>GABRG3</th>\n",
       "      <th>ARRDC5</th>\n",
       "      <th>LRP3</th>\n",
       "      <th>TIMM23</th>\n",
       "      <th>TBPL1</th>\n",
       "      <th>BIRC8</th>\n",
       "      <th>TTC28</th>\n",
       "      <th>C19orf66</th>\n",
       "      <th>...</th>\n",
       "      <th>MAGEA6</th>\n",
       "      <th>IL4I1</th>\n",
       "      <th>LCN12</th>\n",
       "      <th>SMG6</th>\n",
       "      <th>C1orf100</th>\n",
       "      <th>WDR75</th>\n",
       "      <th>ZBTB26</th>\n",
       "      <th>SPTY2D1</th>\n",
       "      <th>PLEKHA2</th>\n",
       "      <th>Cell_type</th>\n",
       "    </tr>\n",
       "  </thead>\n",
       "  <tbody>\n",
       "    <tr>\n",
       "      <th>0</th>\n",
       "      <td>33.888550</td>\n",
       "      <td>38.384340</td>\n",
       "      <td>0.044721</td>\n",
       "      <td>1.385159</td>\n",
       "      <td>11.341853</td>\n",
       "      <td>105.193306</td>\n",
       "      <td>26.463990</td>\n",
       "      <td>0.000000</td>\n",
       "      <td>1.537873</td>\n",
       "      <td>27.645407</td>\n",
       "      <td>...</td>\n",
       "      <td>21.332443</td>\n",
       "      <td>1.397932</td>\n",
       "      <td>0.000000</td>\n",
       "      <td>23.136585</td>\n",
       "      <td>0.001902</td>\n",
       "      <td>60.218548</td>\n",
       "      <td>6.307399</td>\n",
       "      <td>9.577274</td>\n",
       "      <td>44.026940</td>\n",
       "      <td>B_cell</td>\n",
       "    </tr>\n",
       "    <tr>\n",
       "      <th>1</th>\n",
       "      <td>16.497124</td>\n",
       "      <td>35.054090</td>\n",
       "      <td>0.314645</td>\n",
       "      <td>4.329797</td>\n",
       "      <td>8.649321</td>\n",
       "      <td>50.577618</td>\n",
       "      <td>16.684614</td>\n",
       "      <td>0.000000</td>\n",
       "      <td>1.796609</td>\n",
       "      <td>13.715611</td>\n",
       "      <td>...</td>\n",
       "      <td>1.199440</td>\n",
       "      <td>159.147130</td>\n",
       "      <td>0.259244</td>\n",
       "      <td>18.986986</td>\n",
       "      <td>0.310971</td>\n",
       "      <td>25.818224</td>\n",
       "      <td>4.193348</td>\n",
       "      <td>14.181196</td>\n",
       "      <td>35.779896</td>\n",
       "      <td>B_cell</td>\n",
       "    </tr>\n",
       "    <tr>\n",
       "      <th>2</th>\n",
       "      <td>5.449933</td>\n",
       "      <td>31.783958</td>\n",
       "      <td>0.002949</td>\n",
       "      <td>2.137536</td>\n",
       "      <td>1.750892</td>\n",
       "      <td>109.201050</td>\n",
       "      <td>35.265984</td>\n",
       "      <td>0.011501</td>\n",
       "      <td>0.878889</td>\n",
       "      <td>19.361662</td>\n",
       "      <td>...</td>\n",
       "      <td>0.002924</td>\n",
       "      <td>25.256378</td>\n",
       "      <td>0.000000</td>\n",
       "      <td>32.941895</td>\n",
       "      <td>0.000000</td>\n",
       "      <td>99.555990</td>\n",
       "      <td>8.323141</td>\n",
       "      <td>29.321960</td>\n",
       "      <td>30.816538</td>\n",
       "      <td>B_cell</td>\n",
       "    </tr>\n",
       "    <tr>\n",
       "      <th>3</th>\n",
       "      <td>33.362240</td>\n",
       "      <td>56.147026</td>\n",
       "      <td>0.037295</td>\n",
       "      <td>1.604904</td>\n",
       "      <td>6.807299</td>\n",
       "      <td>100.141620</td>\n",
       "      <td>25.446817</td>\n",
       "      <td>0.000000</td>\n",
       "      <td>2.502661</td>\n",
       "      <td>12.745437</td>\n",
       "      <td>...</td>\n",
       "      <td>0.000000</td>\n",
       "      <td>14.509516</td>\n",
       "      <td>0.063003</td>\n",
       "      <td>19.036896</td>\n",
       "      <td>0.000000</td>\n",
       "      <td>49.394980</td>\n",
       "      <td>4.655794</td>\n",
       "      <td>17.683067</td>\n",
       "      <td>47.143270</td>\n",
       "      <td>B_cell</td>\n",
       "    </tr>\n",
       "    <tr>\n",
       "      <th>4</th>\n",
       "      <td>50.188510</td>\n",
       "      <td>30.165264</td>\n",
       "      <td>0.039678</td>\n",
       "      <td>1.501439</td>\n",
       "      <td>1.619954</td>\n",
       "      <td>46.916790</td>\n",
       "      <td>28.053373</td>\n",
       "      <td>0.018181</td>\n",
       "      <td>1.165164</td>\n",
       "      <td>30.318027</td>\n",
       "      <td>...</td>\n",
       "      <td>0.033807</td>\n",
       "      <td>93.681190</td>\n",
       "      <td>0.031816</td>\n",
       "      <td>19.094831</td>\n",
       "      <td>0.000000</td>\n",
       "      <td>20.201437</td>\n",
       "      <td>6.935232</td>\n",
       "      <td>20.769829</td>\n",
       "      <td>53.935143</td>\n",
       "      <td>B_cell</td>\n",
       "    </tr>\n",
       "  </tbody>\n",
       "</table>\n",
       "<p>5 rows × 18793 columns</p>\n",
       "</div>"
      ],
      "text/plain": [
       "       TMCC1     RANBP3    GABRG3    ARRDC5       LRP3      TIMM23      TBPL1  \\\n",
       "0  33.888550  38.384340  0.044721  1.385159  11.341853  105.193306  26.463990   \n",
       "1  16.497124  35.054090  0.314645  4.329797   8.649321   50.577618  16.684614   \n",
       "2   5.449933  31.783958  0.002949  2.137536   1.750892  109.201050  35.265984   \n",
       "3  33.362240  56.147026  0.037295  1.604904   6.807299  100.141620  25.446817   \n",
       "4  50.188510  30.165264  0.039678  1.501439   1.619954   46.916790  28.053373   \n",
       "\n",
       "      BIRC8     TTC28   C19orf66  ...     MAGEA6       IL4I1     LCN12  \\\n",
       "0  0.000000  1.537873  27.645407  ...  21.332443    1.397932  0.000000   \n",
       "1  0.000000  1.796609  13.715611  ...   1.199440  159.147130  0.259244   \n",
       "2  0.011501  0.878889  19.361662  ...   0.002924   25.256378  0.000000   \n",
       "3  0.000000  2.502661  12.745437  ...   0.000000   14.509516  0.063003   \n",
       "4  0.018181  1.165164  30.318027  ...   0.033807   93.681190  0.031816   \n",
       "\n",
       "        SMG6  C1orf100      WDR75    ZBTB26    SPTY2D1    PLEKHA2  Cell_type  \n",
       "0  23.136585  0.001902  60.218548  6.307399   9.577274  44.026940     B_cell  \n",
       "1  18.986986  0.310971  25.818224  4.193348  14.181196  35.779896     B_cell  \n",
       "2  32.941895  0.000000  99.555990  8.323141  29.321960  30.816538     B_cell  \n",
       "3  19.036896  0.000000  49.394980  4.655794  17.683067  47.143270     B_cell  \n",
       "4  19.094831  0.000000  20.201437  6.935232  20.769829  53.935143     B_cell  \n",
       "\n",
       "[5 rows x 18793 columns]"
      ]
     },
     "execution_count": 2,
     "metadata": {},
     "output_type": "execute_result"
    }
   ],
   "source": [
    "# В переменную data_path надо положить путь до данных\n",
    "data_path = \"immune_cells_data.csv\"\n",
    "expression_data = pd.read_csv(f\"{data_path}\", index_col=0)\n",
    "expression_data.head()"
   ]
  },
  {
   "cell_type": "code",
   "execution_count": null,
   "metadata": {
    "id": "JG1QfKYjIJB_"
   },
   "outputs": [],
   "source": []
  },
  {
   "cell_type": "code",
   "execution_count": 3,
   "metadata": {
    "id": "9k75ZGZyVBhu"
   },
   "outputs": [],
   "source": [
    "b_cells_expression_data = expression_data.query(\"Cell_type == 'B_cell'\")\n",
    "nk_cells_expression_data = expression_data.query(\"Cell_type == 'NK_cell'\")"
   ]
  },
  {
   "cell_type": "markdown",
   "metadata": {
    "id": "OAUclhJ3UC2p"
   },
   "source": [
    "В этом задании мы будем работать с данными об экспрессии генов в друх клеточных типах: в B-клетках и в NK-клетках. Выясним, средняя экспрессия каких генов значимо различается в этих клеточных типах."
   ]
  },
  {
   "cell_type": "markdown",
   "metadata": {
    "id": "crW-TliUUuye"
   },
   "source": [
    "Я буду показывать примеры на одном гене, а на основе них вы сможете сделать похожие задачи для всех генов."
   ]
  },
  {
   "cell_type": "code",
   "execution_count": 5,
   "metadata": {
    "id": "1o1vmOSoQMRy"
   },
   "outputs": [],
   "source": [
    "example_gene = \"TMCC1\""
   ]
  },
  {
   "cell_type": "markdown",
   "metadata": {
    "id": "gFSq8BCiUb_m"
   },
   "source": [
    "## Задание 1\n",
    "\n",
    "**2 баллов**"
   ]
  },
  {
   "cell_type": "markdown",
   "metadata": {
    "id": "419ztR7lVm_E"
   },
   "source": [
    "Посмотрим на распределение экспрессий гена `TMCC1` в обоих клеточных типах."
   ]
  },
  {
   "cell_type": "code",
   "execution_count": 6,
   "metadata": {
    "id": "0ln2fQG2QMen"
   },
   "outputs": [
    {
     "data": {
      "image/png": "[encoded data removed]",
      "text/plain": [
       "<Figure size 640x480 with 1 Axes>"
      ]
     },
     "metadata": {},
     "output_type": "display_data"
    }
   ],
   "source": [
    "sns.histplot(b_cells_expression_data[example_gene], stat=\"density\");"
   ]
  },
  {
   "cell_type": "code",
   "execution_count": null,
   "metadata": {
    "id": "nXRbNggMIG_4"
   },
   "outputs": [],
   "source": []
  },
  {
   "cell_type": "code",
   "execution_count": 7,
   "metadata": {
    "id": "pNdIdzpYQMpu"
   },
   "outputs": [
    {
     "data": {
      "image/png": "[encoded data removed]",
      "text/plain": [
       "<Figure size 640x480 with 1 Axes>"
      ]
     },
     "metadata": {},
     "output_type": "display_data"
    }
   ],
   "source": [
    "sns.histplot(nk_cells_expression_data[example_gene], stat=\"density\");"
   ]
  },
  {
   "cell_type": "code",
   "execution_count": 14,
   "metadata": {
    "id": "XgrhI9ojIHTD"
   },
   "outputs": [
    {
     "data": {
      "text/plain": [
       "count    500.000000\n",
       "mean      30.431320\n",
       "std       40.803503\n",
       "min        1.893709\n",
       "25%       11.417924\n",
       "50%       19.990164\n",
       "75%       34.193337\n",
       "max      408.149440\n",
       "Name: TMCC1, dtype: float64"
      ]
     },
     "execution_count": 14,
     "metadata": {},
     "output_type": "execute_result"
    }
   ],
   "source": [
    "nk_cells_expression_data[example_gene].describe()"
   ]
  },
  {
   "cell_type": "code",
   "execution_count": 15,
   "metadata": {
    "id": "XgrhI9ojIHTD"
   },
   "outputs": [
    {
     "data": {
      "text/plain": [
       "count    500.000000\n",
       "mean      26.978972\n",
       "std       40.501733\n",
       "min        2.612815\n",
       "25%        9.042402\n",
       "50%       15.629542\n",
       "75%       28.443489\n",
       "max      589.438350\n",
       "Name: TMCC1, dtype: float64"
      ]
     },
     "execution_count": 15,
     "metadata": {},
     "output_type": "execute_result"
    }
   ],
   "source": [
    "b_cells_expression_data[example_gene].describe()"
   ]
  },
  {
   "cell_type": "markdown",
   "metadata": {
    "id": "TvQPlK5zV77n"
   },
   "source": [
    "Кажется, что они немного различаются. Для начала давайте попробуем еще раз проверить центральную предельную теорему.\n",
    "\n",
    "**Задание:**\n",
    "\n",
    "Напишите функцию, которая будет принимать на вход экспрессии гена, семплировать их них выборки размера `sample_size`, считать среднюю экспрессию и повторять это `n_samples` раз. Примените эту функцию к экспрессиям гена `TMCC1` в обоих клеточных типах, визуализируйте их. Отличаются ли средние экспрессии данного гена у этих клеточных типов?\n",
    "\n",
    "Сигнатура функции:\n",
    "\n",
    "```python\n",
    "def demonstrate_clt(expressions, sample_size, n_samples):\n",
    "    mean_expressions = []\n",
    "\n",
    "    return mean_expressions\n",
    "```"
   ]
  },
  {
   "cell_type": "code",
   "execution_count": 30,
   "metadata": {
    "id": "liScG4k7qVtW"
   },
   "outputs": [],
   "source": [
    "def demonstrate_clt(expressions, sample_size, n_samples):\n",
    "    mean_expressions = []\n",
    "    for i in range(n_samples+1):\n",
    "        sample = np.random.choice(expressions, sample_size)\n",
    "        mean = sample.mean()\n",
    "        mean_expressions.append(mean)\n",
    "    return np.array(mean_expressions)\n",
    "    "
   ]
  },
  {
   "cell_type": "code",
   "execution_count": 48,
   "metadata": {
    "id": "liScG4k7qVtW"
   },
   "outputs": [
    {
     "data": {
      "image/png": "[encoded data removed]",
      "text/plain": [
       "<Figure size 640x480 with 1 Axes>"
      ]
     },
     "metadata": {},
     "output_type": "display_data"
    }
   ],
   "source": [
    "nk_cells_means = demonstrate_clt(nk_cells_expression_data[example_gene], sample_size=50, n_samples=100)\n",
    "sns.histplot(nk_cells_means, stat='density')\n",
    "mean = nk_cells_means.mean()\n",
    "sample_size = len(nk_cells_means)\n",
    "se = nk_cells_means.std()/np.sqrt(sample_size)\n",
    "left_nk = mean - 1.96*se\n",
    "right_nk = mean + 1.96*se"
   ]
  },
  {
   "cell_type": "code",
   "execution_count": 50,
   "metadata": {
    "id": "liScG4k7qVtW"
   },
   "outputs": [
    {
     "data": {
      "image/png": "[encoded data removed]",
      "text/plain": [
       "<Figure size 640x480 with 1 Axes>"
      ]
     },
     "metadata": {},
     "output_type": "display_data"
    }
   ],
   "source": [
    "b_cells_means = demonstrate_clt(b_cells_expression_data[example_gene], sample_size=50, n_samples=100)\n",
    "sns.histplot(b_cells_means, stat='density')\n",
    "mean = b_cells_means.mean()\n",
    "sample_size = len(b_cells_means)\n",
    "se = b_cells_means.std()/np.sqrt(sample_size)\n",
    "left_b = mean - 1.96*se\n",
    "right_b = mean + 1.96*se"
   ]
  },
  {
   "cell_type": "markdown",
   "metadata": {
    "id": "dy8xJYbfa_1W"
   },
   "source": [
    "А теперь посчитайте 95% доверительные интервалы для обоих распределений (примем тот факт, что средние распределены нормально для обоих клеточных типов) и скажите, отличается ли средняя экспрессия данного гена между клеточными типами?"
   ]
  },
  {
   "cell_type": "code",
   "execution_count": 52,
   "metadata": {
    "id": "ZtEKz5jzZ65A"
   },
   "outputs": [
    {
     "data": {
      "text/plain": [
       "[29.94717245229203, 32.45426096002482]"
      ]
     },
     "execution_count": 52,
     "metadata": {},
     "output_type": "execute_result"
    }
   ],
   "source": [
    "[left_nk, right_nk]"
   ]
  },
  {
   "cell_type": "code",
   "execution_count": 53,
   "metadata": {
    "id": "ZtEKz5jzZ65A"
   },
   "outputs": [
    {
     "data": {
      "text/plain": [
       "[26.14227103875931, 28.203979645201095]"
      ]
     },
     "execution_count": 53,
     "metadata": {},
     "output_type": "execute_result"
    }
   ],
   "source": [
    "[left_b, right_b]"
   ]
  },
  {
   "cell_type": "markdown",
   "metadata": {
    "id": "ohXJ3B-TcwP1"
   },
   "source": [
    "## Задание 2\n",
    "\n",
    "**4 баллов**"
   ]
  },
  {
   "cell_type": "markdown",
   "metadata": {
    "id": "OZeMqL9KdCZW"
   },
   "source": [
    "Вспомнили центральную предельную теорему и то, как считать доверительные интервалы в простом случае, теперь давайте воспользуемся библиотечной реализацией для того, чтобы протестировать уже все гены."
   ]
  },
  {
   "cell_type": "code",
   "execution_count": null,
   "metadata": {
    "id": "lWagSgzjabYZ"
   },
   "outputs": [],
   "source": [
    "import scipy.stats as st"
   ]
  },
  {
   "cell_type": "code",
   "execution_count": null,
   "metadata": {
    "id": "_lVNb5JfecyJ"
   },
   "outputs": [],
   "source": []
  },
  {
   "cell_type": "markdown",
   "metadata": {
    "id": "8UF6p1vpekvX"
   },
   "source": [
    "Посчитаем доверительные интервалы для нашего демонстрационного гена в обоих клеточных типах:"
   ]
  },
  {
   "cell_type": "code",
   "execution_count": null,
   "metadata": {
    "id": "6D37bTt5cyVm"
   },
   "outputs": [],
   "source": [
    "# B клетки\n",
    "st.t.interval(alpha=0.95, # 95% доверительный интервал\n",
    "              df=len(b_cells_expression_data[example_gene]) - 1, # число степеней свободы - 1\n",
    "              loc=np.mean(b_cells_expression_data[example_gene]), # Среднее\n",
    "              scale=st.sem(b_cells_expression_data[example_gene])) # Стандартная ошибка среднего"
   ]
  },
  {
   "cell_type": "code",
   "execution_count": null,
   "metadata": {
    "id": "fgUUKsMhcyfG"
   },
   "outputs": [],
   "source": [
    "# NK клетки\n",
    "st.t.interval(alpha=0.95, # 95% доверительный интервал\n",
    "              df=len(nk_cells_expression_data[example_gene]) - 1, # число степеней свободы - 1\n",
    "              loc=np.mean(nk_cells_expression_data[example_gene]), # Среднее\n",
    "              scale=st.sem(nk_cells_expression_data[example_gene])) # Стандартная ошибка среднего"
   ]
  },
  {
   "cell_type": "code",
   "execution_count": null,
   "metadata": {
    "id": "JaLcGOAXcynV"
   },
   "outputs": [],
   "source": []
  },
  {
   "cell_type": "markdown",
   "metadata": {
    "id": "q60PntVDfVof"
   },
   "source": [
    "Напишите функцию для проверки того, что доверительные интервалы пересекаются. На лекции мы тестировали гипотезы для равенства среднего выборки заданному числу и проверяли, попало ли оно в границы этого интервала или нет, если оно оказывалось за ними, то мы говорили, что средние отличаются. Здесь же мы имеем дело с двумя выборками, поэтому будем проверять, пересекаются ли доверительные интервалы, и, если нет, то говорить о том, что средние в выборках отличаются.\n",
    "\n",
    "```python\n",
    "def check_intervals_intersect(first_ci, second_ci):   \n",
    "\n",
    "    return are_intersect # True or False\n",
    "```"
   ]
  },
  {
   "cell_type": "code",
   "execution_count": null,
   "metadata": {
    "id": "iIYx9Pb9fO_q"
   },
   "outputs": [],
   "source": []
  },
  {
   "cell_type": "markdown",
   "metadata": {
    "id": "2cpsVdR-gYkm"
   },
   "source": [
    "Теперь для каждого гена посчитайте доверительные интервалы в обоих клеточных типах, и проверьте, пересекаются ли они? Результаты можно добавлять в список, например:\n",
    "\n",
    "```python\n",
    "ci_test_results = [True, False, ..., True]\n",
    "```"
   ]
  },
  {
   "cell_type": "code",
   "execution_count": null,
   "metadata": {
    "id": "JMOoVjZsr7WU"
   },
   "outputs": [],
   "source": []
  },
  {
   "cell_type": "markdown",
   "metadata": {
    "id": "GTeBsVNHhpr9"
   },
   "source": [
    "Попытайтесь оформить это в виде функции, которая будет принимать на вход две таблицы с экспрессиями и выдавать для каждого гена, значимо ли отличается его средняя экспрессия между клеточными типами.\n",
    "\n",
    "```python\n",
    "def check_dge_with_ci(first_table, second_table):\n",
    "    # dge - differential gene expression\n",
    "\n",
    "    return ci_test_results\n",
    "```"
   ]
  },
  {
   "cell_type": "code",
   "execution_count": null,
   "metadata": {
    "id": "nxgCa0V-r8Xw"
   },
   "outputs": [],
   "source": []
  },
  {
   "cell_type": "markdown",
   "metadata": {
    "id": "BTMrzw2Cjk8x"
   },
   "source": [
    "## Задание 3\n",
    "\n",
    "**4 баллов**"
   ]
  },
  {
   "cell_type": "markdown",
   "metadata": {
    "id": "Hg6BH7N-kilU"
   },
   "source": [
    "Давайте теперь применим для той же задачи `z-критерий`. Будем считать, что в данном случае $\\alpha$ = 0.05, и если полученное `p-value` будет меньше, то экспрессия генов значимо отличается."
   ]
  },
  {
   "cell_type": "code",
   "execution_count": null,
   "metadata": {
    "id": "pfKgFrLCfPN5"
   },
   "outputs": [],
   "source": [
    "from statsmodels.stats.weightstats import ztest"
   ]
  },
  {
   "cell_type": "code",
   "execution_count": null,
   "metadata": {
    "id": "8ws5c8kQcyxA"
   },
   "outputs": [],
   "source": [
    "# Наш излюбленный ген\n",
    "ztest(\n",
    "    b_cells_expression_data[example_gene],\n",
    "    nk_cells_expression_data[example_gene]\n",
    ")"
   ]
  },
  {
   "cell_type": "code",
   "execution_count": null,
   "metadata": {
    "id": "VKkmpuICsBqj"
   },
   "outputs": [],
   "source": []
  },
  {
   "cell_type": "markdown",
   "metadata": {
    "id": "jouFFsZGlWr8"
   },
   "source": [
    "Попытайтесь оформить это в виде функции, которая будет принимать на вход две таблицы с экспрессиями и выдавать для каждого гена, значимо ли отличается его средняя экспрессия между клеточными типами.\n",
    "\n",
    "```python\n",
    "def check_dge_with_ztest(first_table, second_table):\n",
    "    # dge - differential gene expression\n",
    "\n",
    "    return z_test_results\n",
    "```"
   ]
  },
  {
   "cell_type": "code",
   "execution_count": null,
   "metadata": {
    "id": "aXc720tmhNt7"
   },
   "outputs": [],
   "source": []
  },
  {
   "cell_type": "markdown",
   "metadata": {
    "id": "TZpNj9EMlenZ"
   },
   "source": [
    "## Задание 4\n",
    "\n",
    "**10 баллов**"
   ]
  },
  {
   "cell_type": "markdown",
   "metadata": {
    "id": "sqCB9SY9ljrn"
   },
   "source": [
    "Теперь пришла пора оформить все ваши старания в виде программы. Напишите программу (можно просто функцию), которая принимает на вход следующие аргуметры:\n",
    "\n",
    "1. `first_cell_type_expressions` &ndash; таблица с экспрессиями генов для одного клеточного типа;\n",
    "2. `second_cell_type_expressions` &ndash; таблица с экспрессиями генов для второго клеточного типа;\n",
    "\n",
    "Как читать данные при помощи пандаса мы уже знаем, осталось понять, как записывать результаты. Допустим, вы записывали результаты ваших тестов в списки, тогда создать пандасовский датафрейм можно следующим образом:"
   ]
  },
  {
   "cell_type": "code",
   "execution_count": null,
   "metadata": {
    "colab": {
     "base_uri": "https://localhost:8080/",
     "height": 153
    },
    "id": "UK3kTYEBljMl",
    "outputId": "164a2f08-4909-4fa2-fee9-e77b2c3bf47d"
   },
   "outputs": [
    {
     "data": {
      "text/html": [
       "\n",
       "  <div id=\"df-f31aa3a4-d86c-405c-82d8-2fcdb1fb2c23\">\n",
       "    <div class=\"colab-df-container\">\n",
       "      <div>\n",
       "<style scoped>\n",
       "    .dataframe tbody tr th:only-of-type {\n",
       "        vertical-align: middle;\n",
       "    }\n",
       "\n",
       "    .dataframe tbody tr th {\n",
       "        vertical-align: top;\n",
       "    }\n",
       "\n",
       "    .dataframe thead th {\n",
       "        text-align: right;\n",
       "    }\n",
       "</style>\n",
       "<table border=\"1\" class=\"dataframe\">\n",
       "  <thead>\n",
       "    <tr style=\"text-align: right;\">\n",
       "      <th></th>\n",
       "      <th>ci_test_results</th>\n",
       "      <th>z_test_results</th>\n",
       "      <th>z_test_p_values</th>\n",
       "      <th>mean_diff</th>\n",
       "    </tr>\n",
       "  </thead>\n",
       "  <tbody>\n",
       "    <tr>\n",
       "      <th>0</th>\n",
       "      <td>True</td>\n",
       "      <td>True</td>\n",
       "      <td>0.0040</td>\n",
       "      <td>-10.0</td>\n",
       "    </tr>\n",
       "    <tr>\n",
       "      <th>1</th>\n",
       "      <td>False</td>\n",
       "      <td>True</td>\n",
       "      <td>0.0100</td>\n",
       "      <td>10.0</td>\n",
       "    </tr>\n",
       "    <tr>\n",
       "      <th>2</th>\n",
       "      <td>True</td>\n",
       "      <td>True</td>\n",
       "      <td>0.0001</td>\n",
       "      <td>0.5</td>\n",
       "    </tr>\n",
       "  </tbody>\n",
       "</table>\n",
       "</div>\n",
       "      <button class=\"colab-df-convert\" onclick=\"convertToInteractive('df-f31aa3a4-d86c-405c-82d8-2fcdb1fb2c23')\"\n",
       "              title=\"Convert this dataframe to an interactive table.\"\n",
       "              style=\"display:none;\">\n",
       "        \n",
       "  <svg xmlns=\"http://www.w3.org/2000/svg\" height=\"24px\"viewBox=\"0 0 24 24\"\n",
       "       width=\"24px\">\n",
       "    <path d=\"M0 0h24v24H0V0z\" fill=\"none\"/>\n",
       "    <path d=\"M18.56 5.44l.94 2.06.94-2.06 2.06-.94-2.06-.94-.94-2.06-.94 2.06-2.06.94zm-11 1L8.5 8.5l.94-2.06 2.06-.94-2.06-.94L8.5 2.5l-.94 2.06-2.06.94zm10 10l.94 2.06.94-2.06 2.06-.94-2.06-.94-.94-2.06-.94 2.06-2.06.94z\"/><path d=\"M17.41 7.96l-1.37-1.37c-.4-.4-.92-.59-1.43-.59-.52 0-1.04.2-1.43.59L10.3 9.45l-7.72 7.72c-.78.78-.78 2.05 0 2.83L4 21.41c.39.39.9.59 1.41.59.51 0 1.02-.2 1.41-.59l7.78-7.78 2.81-2.81c.8-.78.8-2.07 0-2.86zM5.41 20L4 18.59l7.72-7.72 1.47 1.35L5.41 20z\"/>\n",
       "  </svg>\n",
       "      </button>\n",
       "      \n",
       "  <style>\n",
       "    .colab-df-container {\n",
       "      display:flex;\n",
       "      flex-wrap:wrap;\n",
       "      gap: 12px;\n",
       "    }\n",
       "\n",
       "    .colab-df-convert {\n",
       "      background-color: #E8F0FE;\n",
       "      border: none;\n",
       "      border-radius: 50%;\n",
       "      cursor: pointer;\n",
       "      display: none;\n",
       "      fill: #1967D2;\n",
       "      height: 32px;\n",
       "      padding: 0 0 0 0;\n",
       "      width: 32px;\n",
       "    }\n",
       "\n",
       "    .colab-df-convert:hover {\n",
       "      background-color: #E2EBFA;\n",
       "      box-shadow: 0px 1px 2px rgba(60, 64, 67, 0.3), 0px 1px 3px 1px rgba(60, 64, 67, 0.15);\n",
       "      fill: #174EA6;\n",
       "    }\n",
       "\n",
       "    [theme=dark] .colab-df-convert {\n",
       "      background-color: #3B4455;\n",
       "      fill: #D2E3FC;\n",
       "    }\n",
       "\n",
       "    [theme=dark] .colab-df-convert:hover {\n",
       "      background-color: #434B5C;\n",
       "      box-shadow: 0px 1px 3px 1px rgba(0, 0, 0, 0.15);\n",
       "      filter: drop-shadow(0px 1px 2px rgba(0, 0, 0, 0.3));\n",
       "      fill: #FFFFFF;\n",
       "    }\n",
       "  </style>\n",
       "\n",
       "      <script>\n",
       "        const buttonEl =\n",
       "          document.querySelector('#df-f31aa3a4-d86c-405c-82d8-2fcdb1fb2c23 button.colab-df-convert');\n",
       "        buttonEl.style.display =\n",
       "          google.colab.kernel.accessAllowed ? 'block' : 'none';\n",
       "\n",
       "        async function convertToInteractive(key) {\n",
       "          const element = document.querySelector('#df-f31aa3a4-d86c-405c-82d8-2fcdb1fb2c23');\n",
       "          const dataTable =\n",
       "            await google.colab.kernel.invokeFunction('convertToInteractive',\n",
       "                                                     [key], {});\n",
       "          if (!dataTable) return;\n",
       "\n",
       "          const docLinkHtml = 'Like what you see? Visit the ' +\n",
       "            '<a target=\"_blank\" href=https://colab.research.google.com/notebooks/data_table.ipynb>data table notebook</a>'\n",
       "            + ' to learn more about interactive tables.';\n",
       "          element.innerHTML = '';\n",
       "          dataTable['output_type'] = 'display_data';\n",
       "          await google.colab.output.renderOutput(dataTable, element);\n",
       "          const docLink = document.createElement('div');\n",
       "          docLink.innerHTML = docLinkHtml;\n",
       "          element.appendChild(docLink);\n",
       "        }\n",
       "      </script>\n",
       "    </div>\n",
       "  </div>\n",
       "  "
      ],
      "text/plain": [
       "   ci_test_results  z_test_results  z_test_p_values  mean_diff\n",
       "0             True            True           0.0040      -10.0\n",
       "1            False            True           0.0100       10.0\n",
       "2             True            True           0.0001        0.5"
      ]
     },
     "execution_count": 48,
     "metadata": {},
     "output_type": "execute_result"
    }
   ],
   "source": [
    "ci_test_results = [True, False, True]\n",
    "z_test_results = [True, True, True]\n",
    "# Опционально можно также сохранять p-value для z-критерия\n",
    "z_test_p_values = [0.004, 0.01, 0.0001]\n",
    "# Также сохраните разницу в средних экспрессиях между 1 и 2 таблицами для каждого гена,\n",
    "# чтобы было понять, уменьшается или увеличивается экспрессия гена\n",
    "mean_diff = [-10, 10, 0.5]\n",
    "\n",
    "# Созданим словарь {'название колонки': список_значений}\n",
    "results = {\n",
    "    \"ci_test_results\": ci_test_results,\n",
    "    \"z_test_results\": z_test_results,\n",
    "    \"z_test_p_values\": z_test_p_values,\n",
    "    \"mean_diff\": mean_diff\n",
    "}\n",
    "\n",
    "# Из словаря делаем датафрейм\n",
    "results = pd.DataFrame(results)\n",
    "results.head()"
   ]
  },
  {
   "cell_type": "code",
   "execution_count": null,
   "metadata": {
    "id": "WvjHjmLcoBQO"
   },
   "outputs": [],
   "source": [
    "# Сохраним таблицу в .csv файл\n",
    "results.to_csv(\"path_to_your_awesome_results.csv\")"
   ]
  },
  {
   "cell_type": "code",
   "execution_count": null,
   "metadata": {
    "id": "MT2i-0StqcM2"
   },
   "outputs": [],
   "source": []
  },
  {
   "cell_type": "markdown",
   "metadata": {
    "id": "AnjRiJBtqbCu"
   },
   "source": [
    "## Задание 5\n",
    "\n",
    "**0.5 баллов (доп.)**\n",
    "\n",
    "Напишите сюда фидбек о самостоятельном задании. Что (не-)понравилось, что показалось слишком простым/сложным.\n",
    "\n",
    "* ..."
   ]
  },
  {
   "cell_type": "code",
   "execution_count": null,
   "metadata": {
    "id": "5ZF0gOD-rSX_"
   },
   "outputs": [],
   "source": []
  }
 ],
 "metadata": {
  "colab": {
   "authorship_tag": "ABX9TyOKfMTWH0lBqrtsV1vYRP7M",
   "include_colab_link": true,
   "provenance": []
  },
  "kernelspec": {
   "display_name": "Python 3 (ipykernel)",
   "language": "python",
   "name": "python3"
  },
  "language_info": {
   "codemirror_mode": {
    "name": "ipython",
    "version": 3
   },
   "file_extension": ".py",
   "mimetype": "text/x-python",
   "name": "python",
   "nbconvert_exporter": "python",
   "pygments_lexer": "ipython3",
   "version": "3.9.4"
  }
 },
 "nbformat": 4,
 "nbformat_minor": 4
}
